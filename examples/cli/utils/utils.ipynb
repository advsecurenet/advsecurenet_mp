{
 "cells": [
  {
   "cell_type": "markdown",
   "metadata": {},
   "source": [
    "# Utils Examples"
   ]
  },
  {
   "cell_type": "markdown",
   "metadata": {},
   "source": [
    "This notebook contains examples of how to use the utility commands in the `advsecurenet` package on Command Line Interface (CLI)."
   ]
  },
  {
   "cell_type": "code",
   "execution_count": 3,
   "metadata": {},
   "outputs": [
    {
     "name": "stdout",
     "output_type": "stream",
     "text": [
      "Usage: advsecurenet utils [OPTIONS] COMMAND [ARGS]...\n",
      "\n",
      "  Command to utilities.\n",
      "\n",
      "Options:\n",
      "  --help  Show this message and exit.\n",
      "\n",
      "Commands:\n",
      "  configs               Command to list available configuration files.\n",
      "  models                Command to list available models.\n",
      "  normalization-params  Command to list the normalization values for a...\n",
      "  weights               Command to model weights.\n"
     ]
    }
   ],
   "source": [
    "!advsecurenet utils --help"
   ]
  },
  {
   "cell_type": "markdown",
   "metadata": {},
   "source": [
    "## Configs\n",
    "\n",
    "`advsecurenet` provides a way to configure the attack, defense and evaluation parameters using a configuration file. The configuration file is a YAML file that contains the parameters for the attack, defense and evaluation. Using the configuration file, you can easily change the parameters without changing the code or the command line arguments. Also it is easy to share the configuration file with others, reproduce the results and compare the results with different parameters without dealing with bunch of command line arguments. Such configuration files can be obtained from the `configs` command.\n"
   ]
  },
  {
   "cell_type": "code",
   "execution_count": 5,
   "metadata": {},
   "outputs": [
    {
     "name": "stdout",
     "output_type": "stream",
     "text": [
      "Usage: advsecurenet utils configs [OPTIONS] COMMAND [ARGS]...\n",
      "\n",
      "  Command to manage configuration files. Configuration files are used to run\n",
      "  experiments with different settings. With this command, you can list\n",
      "  available configuration files, generate a default configuration file, and\n",
      "  save it to a directory.\n",
      "\n",
      "Options:\n",
      "  --help  Show this message and exit.\n",
      "\n",
      "Commands:\n",
      "  get   Generate a default configuration file based on the name of the...\n",
      "  list  Return the list of available configuration files.\n"
     ]
    }
   ],
   "source": [
    "!advsecurenet utils configs --help"
   ]
  },
  {
   "cell_type": "code",
   "execution_count": 7,
   "metadata": {},
   "outputs": [
    {
     "name": "stdout",
     "output_type": "stream",
     "text": [
      "\n",
      "\u001b[35m\u001b[1mAvailable configuration files:\n",
      "\u001b[0m\n",
      "\u001b[34m\u001b[1m1. Title: Defense Configurations \u001b[0m\n",
      "\u001b[32m   Description: This module contains the configurations for the defenses that can be used to defend against adversarial examples.\n",
      "    Currently, the defenses include the following:\n",
      "        - Adversarial Training\u001b[0m\n",
      "\u001b[31m\u001b[1m   Config Files:\u001b[0m\n",
      "       1. adversarial_training_config.yml\u001b[0m\n",
      "\u001b[36m\u001b[1m\n",
      "============================================================\n",
      "\u001b[0m\n",
      "\u001b[34m\u001b[1m2. Title: Training and Testing Configurations \u001b[0m\n",
      "\u001b[32m   Description: This module contains the configurations for training and testing the models. The configurations include the\n",
      "    training and testing data loaders, the optimizer, the scheduler, the loss function, the number of epochs, the\n",
      "    device to train on, and the model to train.\u001b[0m\n",
      "\u001b[31m\u001b[1m   Config Files:\u001b[0m\n",
      "       1. train_config.yml\u001b[0m\n",
      "       2. test_config.yml\u001b[0m\n",
      "\u001b[36m\u001b[1m\n",
      "============================================================\n",
      "\u001b[0m\n",
      "\u001b[34m\u001b[1m3. Title: Shared Configurations \u001b[0m\n",
      "\u001b[32m   Description: This module contains the shared submodules that are used in the other modules. The shared submodules include the\n",
      "    configurations for the dataloader, dataset, device, model, and training. \n",
      "    These configurations are used in the other modules to create the configurations for the CLI. \n",
      "    \n",
      "    Some of these configurations can be used as standalone configurations, such as the model configuration, in the adversarial training\n",
      "    as part of the ensemble of models.\u001b[0m\n",
      "\u001b[31m\u001b[1m   Config Files:\u001b[0m\n",
      "       1. preprocess_config.yml\u001b[0m\n",
      "       2. model_config.yml\u001b[0m\n",
      "       3. dataset_config.yml\u001b[0m\n",
      "       4. dataloader_config.yml\u001b[0m\n",
      "       5. device_config.yml\u001b[0m\n",
      "       6. training_config.yml\u001b[0m\n",
      "\u001b[36m\u001b[1m\n",
      "============================================================\n",
      "\u001b[0m\n",
      "\u001b[34m\u001b[1m4. Title: Evaluation Configurations \u001b[0m\n",
      "\u001b[32m   Description: This module contains the configurations for the evaluation of the models.\u001b[0m\n",
      "\u001b[31m\u001b[1m   Config Files:\u001b[0m\n",
      "       1. adversarial_evaluation_config.yml\u001b[0m\n",
      "\u001b[36m\u001b[1m\n",
      "============================================================\n",
      "\u001b[0m\n",
      "\u001b[34m\u001b[1m5. Title: Attack Configurations \u001b[0m\n",
      "\u001b[32m   Description: This module contains the configurations for the attacks that can be used to generate adversarial examples.\u001b[0m\n",
      "\u001b[31m\u001b[1m   Config Files:\u001b[0m\n",
      "       1. pgd_attack_config.yml\u001b[0m\n",
      "       2. fgsm_attack_config.yml\u001b[0m\n",
      "       3. lots_attack_config.yml\u001b[0m\n",
      "       4. cw_attack_config.yml\u001b[0m\n",
      "       5. decision_boundary_attack_config.yml\u001b[0m\n",
      "       6. deepfool_attack_config.yml\u001b[0m\n",
      "\u001b[36m\u001b[1m\n",
      "============================================================\n",
      "\u001b[0m\n",
      "\u001b[34m\u001b[1m6. Title: Base Adversarial Attack Configurations \u001b[0m\n",
      "\u001b[32m   Description: Base adversarial attack configurations. These configurations are used to define the attack parameters. They can be used in the adversarial training, evaluation, and attack modules.\u001b[0m\n",
      "\u001b[31m\u001b[1m   Config Files:\u001b[0m\n",
      "       1. pgd_attack_base_config.yml\u001b[0m\n",
      "       2. decision_boundary_attack_base_config.yml\u001b[0m\n",
      "       3. fgsm_attack_base_config.yml\u001b[0m\n",
      "       4. cw_attack_base_config.yml\u001b[0m\n",
      "       5. lots_attack_base_config.yml\u001b[0m\n",
      "       6. deepfool_attack_base_config.yml\u001b[0m\n",
      "\u001b[36m\u001b[1m\n",
      "============================================================\n",
      "\u001b[0m\n",
      "\n"
     ]
    }
   ],
   "source": [
    "!advsecurenet utils configs list"
   ]
  },
  {
   "cell_type": "code",
   "execution_count": 8,
   "metadata": {},
   "outputs": [
    {
     "name": "stdout",
     "output_type": "stream",
     "text": [
      "Usage: advsecurenet utils configs get [OPTIONS]\n",
      "\n",
      "  Generate a default configuration file based on the name of the configuration\n",
      "  to use.\n",
      "\n",
      "  Args:\n",
      "\n",
      "      config_name (str): The name of the configuration file to use.\n",
      "      output_path (str): The directory to save the configuration file to. If\n",
      "      not specified, defaults to the current working directory. It can also be\n",
      "      a full path including the filename.\n",
      "\n",
      "  Examples:\n",
      "\n",
      "      >>>  advsecurenet utils configs get -c train -p     Default\n",
      "      configuration file for train: ....     >>> advsecurenet utils configs\n",
      "      get -c train -s     Saving default config to ... Generated default\n",
      "      configuration file train!     >>> advsecurenet utils configs get -c\n",
      "      train -s -o ./myconfigs/mytrain_config.yml     Saving default config to\n",
      "      ./myconfigs/mytrain_config.yml ... Generated default configuration file\n",
      "      train! Notes:\n",
      "\n",
      "      If you are unsure which configuration file to use, use the \"configs\"\n",
      "      command to list available configuration files. You can discard the\n",
      "      _config.yml suffix when specifying the configuration name.     You can\n",
      "      provide a full path including the filename to the output path. If the\n",
      "      directory does not exist, it will be created. If the file already\n",
      "      exists, it will be overwritten.     You can provide the relative path to\n",
      "      the output path. Make sure it ends with a slash (e.g., ./myconfigs/).\n",
      "\n",
      "Options:\n",
      "  -c, --config-name TEXT  Name of the configuration file to use. If you are\n",
      "                          unsure, use the \"configs\" command to list available\n",
      "                          configuration files.\n",
      "  -s, --save              Whether to save the configuration file to the\n",
      "                          current directory. Defaults to False.\n",
      "  -p, --print-output      Whether to print the configuration file to the\n",
      "                          console. Defaults to False.\n",
      "  -o, --output-path TEXT  The directory to save the configuration file to. If\n",
      "                          not specified, defaults to the current working\n",
      "                          directory.\n",
      "  --help                  Show this message and exit.\n"
     ]
    }
   ],
   "source": [
    "!advsecurenet utils configs get --help"
   ]
  },
  {
   "cell_type": "code",
   "execution_count": 9,
   "metadata": {},
   "outputs": [
    {
     "name": "stdout",
     "output_type": "stream",
     "text": [
      "\u001b[34m\u001b[1m**************************************************\u001b[0m\n",
      "\u001b[31m\u001b[1mDefault configuration file for the fgsm_attack_config.yml:\n",
      "\u001b[0m\n",
      "\u001b[32m{\n",
      "    \"model\": {\n",
      "        \"model_name\": \"resnet18\",\n",
      "        \"num_input_channels\": 3,\n",
      "        \"num_classes\": 10,\n",
      "        \"pretrained\": true,\n",
      "        \"weights\": \"IMAGENET1K_V1\",\n",
      "        \"is_external\": false,\n",
      "        \"random_seed\": null,\n",
      "        \"path_configs\": {\n",
      "            \"model_arch_path\": null,\n",
      "            \"model_weights_path\": null\n",
      "        },\n",
      "        \"norm_config\": {\n",
      "            \"add_norm_layer\": false,\n",
      "            \"norm_mean\": [\n",
      "                0.5,\n",
      "                0.5,\n",
      "                0.5\n",
      "            ],\n",
      "            \"norm_std\": [\n",
      "                0.5,\n",
      "                0.5,\n",
      "                0.5\n",
      "            ]\n",
      "        }\n",
      "    },\n",
      "    \"dataset\": {\n",
      "        \"dataset_name\": \"cifar10\",\n",
      "        \"download\": true,\n",
      "        \"num_classes\": 10,\n",
      "        \"dataset_part\": \"test\",\n",
      "        \"train_dataset_path\": null,\n",
      "        \"test_dataset_path\": null,\n",
      "        \"random_sample_size\": null,\n",
      "        \"preprocessing\": {\n",
      "            \"steps\": [\n",
      "                {\n",
      "                    \"name\": \"ToImage\",\n",
      "                    \"params\": null\n",
      "                },\n",
      "                {\n",
      "                    \"name\": \"ToDtype\",\n",
      "                    \"params\": {\n",
      "                        \"dtype\": \"torch.float32\",\n",
      "                        \"scale\": true\n",
      "                    }\n",
      "                }\n",
      "            ]\n",
      "        }\n",
      "    },\n",
      "    \"dataloader\": {\n",
      "        \"default\": {\n",
      "            \"num_workers\": 4,\n",
      "            \"shuffle\": true,\n",
      "            \"drop_last\": false,\n",
      "            \"pin_memory\": true,\n",
      "            \"batch_size\": 32\n",
      "        }\n",
      "    },\n",
      "    \"device\": {\n",
      "        \"use_ddp\": false,\n",
      "        \"processor\": \"cpu\",\n",
      "        \"gpu_ids\": null\n",
      "    },\n",
      "    \"attack_procedure\": {\n",
      "        \"verbose\": true,\n",
      "        \"save_result_images\": true,\n",
      "        \"result_images_dir\": \"attack\",\n",
      "        \"result_images_prefix\": \"adv\"\n",
      "    },\n",
      "    \"attack_config\": {\n",
      "        \"target_parameters\": {\n",
      "            \"targeted\": false,\n",
      "            \"auto_generate_target\": true,\n",
      "            \"target_images_config\": {\n",
      "                \"target_images_dir\": null\n",
      "            },\n",
      "            \"target_labels_config\": {\n",
      "                \"target_labels\": [],\n",
      "                \"target_labels_path\": null,\n",
      "                \"target_labels_separator\": \",\"\n",
      "            }\n",
      "        },\n",
      "        \"attack_parameters\": {\n",
      "            \"epsilon\": 0.3\n",
      "        }\n",
      "    }\n",
      "}\u001b[0m\n",
      "\u001b[34m\u001b[1m**************************************************\u001b[0m\n"
     ]
    }
   ],
   "source": [
    "# To print the configuration file to the console\n",
    "!advsecurenet utils configs get -c fgsm_attack_config.yml -p"
   ]
  },
  {
   "cell_type": "code",
   "execution_count": 10,
   "metadata": {},
   "outputs": [
    {
     "name": "stdout",
     "output_type": "stream",
     "text": [
      "Saving default config to ./test_fgsm_attack_config.yml\n",
      "Generated default configuration file fgsm_attack_config.yml!\n"
     ]
    }
   ],
   "source": [
    "# You can also save the configuration file to a specific location\n",
    "!advsecurenet utils configs get -c fgsm_attack_config.yml -s -o ./test_fgsm_attack_config.yml"
   ]
  },
  {
   "cell_type": "markdown",
   "metadata": {},
   "source": [
    "## Models \n",
    "\n",
    "`advsecurenet` supports both PyTorch models, Custom models and External models. The PyTorch models are the models that are available in the `torchvision.models` module. The Custom models are the models that are defined in the package itself which are not available in the `torchvision.models` module. The External models are the models that can be provided by the user. `models` command provides a way to get the list of available models in the package and their layers. Layers are important for some attacks in the package like `LOTS`."
   ]
  },
  {
   "cell_type": "code",
   "execution_count": 11,
   "metadata": {},
   "outputs": [
    {
     "name": "stdout",
     "output_type": "stream",
     "text": [
      "Usage: advsecurenet utils models [OPTIONS] COMMAND [ARGS]...\n",
      "\n",
      "  Command to list available models.\n",
      "\n",
      "Options:\n",
      "  --help  Show this message and exit.\n",
      "\n",
      "Commands:\n",
      "  layers  Command to list the layers of a model.\n",
      "  list    Command to list available models.\n"
     ]
    }
   ],
   "source": [
    "!advsecurenet utils models --help"
   ]
  },
  {
   "cell_type": "code",
   "execution_count": 13,
   "metadata": {},
   "outputs": [
    {
     "name": "stdout",
     "output_type": "stream",
     "text": [
      "Available models:\n",
      "\n",
      "1. alexnet\n",
      "2. convnext_base\n",
      "3. convnext_large\n",
      "4. convnext_small\n",
      "5. convnext_tiny\n",
      "6. deeplabv3_mobilenet_v3_large\n",
      "7. deeplabv3_resnet101\n",
      "8. deeplabv3_resnet50\n",
      "9. densenet121\n",
      "10. densenet161\n",
      "11. densenet169\n",
      "12. densenet201\n",
      "13. efficientnet_b0\n",
      "14. efficientnet_b1\n",
      "15. efficientnet_b2\n",
      "16. efficientnet_b3\n",
      "17. efficientnet_b4\n",
      "18. efficientnet_b5\n",
      "19. efficientnet_b6\n",
      "20. efficientnet_b7\n",
      "21. efficientnet_v2_l\n",
      "22. efficientnet_v2_m\n",
      "23. efficientnet_v2_s\n",
      "24. fasterrcnn_mobilenet_v3_large_320_fpn\n",
      "25. fasterrcnn_mobilenet_v3_large_fpn\n",
      "26. fasterrcnn_resnet50_fpn\n",
      "27. fasterrcnn_resnet50_fpn_v2\n",
      "28. fcn_resnet101\n",
      "29. fcn_resnet50\n",
      "30. fcos_resnet50_fpn\n",
      "31. googlenet\n",
      "32. inception_v3\n",
      "33. keypointrcnn_resnet50_fpn\n",
      "34. lraspp_mobilenet_v3_large\n",
      "35. maskrcnn_resnet50_fpn\n",
      "36. maskrcnn_resnet50_fpn_v2\n",
      "37. maxvit_t\n",
      "38. mc3_18\n",
      "39. mnasnet0_5\n",
      "40. mnasnet0_75\n",
      "41. mnasnet1_0\n",
      "42. mnasnet1_3\n",
      "43. mobilenet_v2\n",
      "44. mobilenet_v3_large\n",
      "45. mobilenet_v3_small\n",
      "46. mvit_v1_b\n",
      "47. mvit_v2_s\n",
      "48. quantized_googlenet\n",
      "49. quantized_inception_v3\n",
      "50. quantized_mobilenet_v2\n",
      "51. quantized_mobilenet_v3_large\n",
      "52. quantized_resnet18\n",
      "53. quantized_resnet50\n",
      "54. quantized_resnext101_32x8d\n",
      "55. quantized_resnext101_64x4d\n",
      "56. quantized_shufflenet_v2_x0_5\n",
      "57. quantized_shufflenet_v2_x1_0\n",
      "58. quantized_shufflenet_v2_x1_5\n",
      "59. quantized_shufflenet_v2_x2_0\n",
      "60. r2plus1d_18\n",
      "61. r3d_18\n",
      "62. raft_large\n",
      "63. raft_small\n",
      "64. regnet_x_16gf\n",
      "65. regnet_x_1_6gf\n",
      "66. regnet_x_32gf\n",
      "67. regnet_x_3_2gf\n",
      "68. regnet_x_400mf\n",
      "69. regnet_x_800mf\n",
      "70. regnet_x_8gf\n",
      "71. regnet_y_128gf\n",
      "72. regnet_y_16gf\n",
      "73. regnet_y_1_6gf\n",
      "74. regnet_y_32gf\n",
      "75. regnet_y_3_2gf\n",
      "76. regnet_y_400mf\n",
      "77. regnet_y_800mf\n",
      "78. regnet_y_8gf\n",
      "79. resnet101\n",
      "80. resnet152\n",
      "81. resnet18\n",
      "82. resnet34\n",
      "83. resnet50\n",
      "84. resnext101_32x8d\n",
      "85. resnext101_64x4d\n",
      "86. resnext50_32x4d\n",
      "87. retinanet_resnet50_fpn\n",
      "88. retinanet_resnet50_fpn_v2\n",
      "89. s3d\n",
      "90. shufflenet_v2_x0_5\n",
      "91. shufflenet_v2_x1_0\n",
      "92. shufflenet_v2_x1_5\n",
      "93. shufflenet_v2_x2_0\n",
      "94. squeezenet1_0\n",
      "95. squeezenet1_1\n",
      "96. ssd300_vgg16\n",
      "97. ssdlite320_mobilenet_v3_large\n",
      "98. swin3d_b\n",
      "99. swin3d_s\n",
      "100. swin3d_t\n",
      "101. swin_b\n",
      "102. swin_s\n",
      "103. swin_t\n",
      "104. swin_v2_b\n",
      "105. swin_v2_s\n",
      "106. swin_v2_t\n",
      "107. vgg11\n",
      "108. vgg11_bn\n",
      "109. vgg13\n",
      "110. vgg13_bn\n",
      "111. vgg16\n",
      "112. vgg16_bn\n",
      "113. vgg19\n",
      "114. vgg19_bn\n",
      "115. vit_b_16\n",
      "116. vit_b_32\n",
      "117. vit_h_14\n",
      "118. vit_l_16\n",
      "119. vit_l_32\n",
      "120. wide_resnet101_2\n",
      "121. wide_resnet50_2\n",
      "\n"
     ]
    }
   ],
   "source": [
    "!advsecurenet utils models list -m standard"
   ]
  },
  {
   "cell_type": "code",
   "execution_count": 14,
   "metadata": {},
   "outputs": [
    {
     "name": "stdout",
     "output_type": "stream",
     "text": [
      "Available models:\n",
      "\n",
      "1. CustomCifar10Model\n",
      "2. CustomMnistModel\n",
      "\n"
     ]
    }
   ],
   "source": [
    "!advsecurenet utils models list -m custom"
   ]
  },
  {
   "cell_type": "code",
   "execution_count": 15,
   "metadata": {},
   "outputs": [
    {
     "name": "stdout",
     "output_type": "stream",
     "text": [
      "Available models:\n",
      "\n",
      "1. alexnet\n",
      "2. convnext_base\n",
      "3. convnext_large\n",
      "4. convnext_small\n",
      "5. convnext_tiny\n",
      "6. deeplabv3_mobilenet_v3_large\n",
      "7. deeplabv3_resnet101\n",
      "8. deeplabv3_resnet50\n",
      "9. densenet121\n",
      "10. densenet161\n",
      "11. densenet169\n",
      "12. densenet201\n",
      "13. efficientnet_b0\n",
      "14. efficientnet_b1\n",
      "15. efficientnet_b2\n",
      "16. efficientnet_b3\n",
      "17. efficientnet_b4\n",
      "18. efficientnet_b5\n",
      "19. efficientnet_b6\n",
      "20. efficientnet_b7\n",
      "21. efficientnet_v2_l\n",
      "22. efficientnet_v2_m\n",
      "23. efficientnet_v2_s\n",
      "24. fasterrcnn_mobilenet_v3_large_320_fpn\n",
      "25. fasterrcnn_mobilenet_v3_large_fpn\n",
      "26. fasterrcnn_resnet50_fpn\n",
      "27. fasterrcnn_resnet50_fpn_v2\n",
      "28. fcn_resnet101\n",
      "29. fcn_resnet50\n",
      "30. fcos_resnet50_fpn\n",
      "31. googlenet\n",
      "32. inception_v3\n",
      "33. keypointrcnn_resnet50_fpn\n",
      "34. lraspp_mobilenet_v3_large\n",
      "35. maskrcnn_resnet50_fpn\n",
      "36. maskrcnn_resnet50_fpn_v2\n",
      "37. maxvit_t\n",
      "38. mc3_18\n",
      "39. mnasnet0_5\n",
      "40. mnasnet0_75\n",
      "41. mnasnet1_0\n",
      "42. mnasnet1_3\n",
      "43. mobilenet_v2\n",
      "44. mobilenet_v3_large\n",
      "45. mobilenet_v3_small\n",
      "46. mvit_v1_b\n",
      "47. mvit_v2_s\n",
      "48. quantized_googlenet\n",
      "49. quantized_inception_v3\n",
      "50. quantized_mobilenet_v2\n",
      "51. quantized_mobilenet_v3_large\n",
      "52. quantized_resnet18\n",
      "53. quantized_resnet50\n",
      "54. quantized_resnext101_32x8d\n",
      "55. quantized_resnext101_64x4d\n",
      "56. quantized_shufflenet_v2_x0_5\n",
      "57. quantized_shufflenet_v2_x1_0\n",
      "58. quantized_shufflenet_v2_x1_5\n",
      "59. quantized_shufflenet_v2_x2_0\n",
      "60. r2plus1d_18\n",
      "61. r3d_18\n",
      "62. raft_large\n",
      "63. raft_small\n",
      "64. regnet_x_16gf\n",
      "65. regnet_x_1_6gf\n",
      "66. regnet_x_32gf\n",
      "67. regnet_x_3_2gf\n",
      "68. regnet_x_400mf\n",
      "69. regnet_x_800mf\n",
      "70. regnet_x_8gf\n",
      "71. regnet_y_128gf\n",
      "72. regnet_y_16gf\n",
      "73. regnet_y_1_6gf\n",
      "74. regnet_y_32gf\n",
      "75. regnet_y_3_2gf\n",
      "76. regnet_y_400mf\n",
      "77. regnet_y_800mf\n",
      "78. regnet_y_8gf\n",
      "79. resnet101\n",
      "80. resnet152\n",
      "81. resnet18\n",
      "82. resnet34\n",
      "83. resnet50\n",
      "84. resnext101_32x8d\n",
      "85. resnext101_64x4d\n",
      "86. resnext50_32x4d\n",
      "87. retinanet_resnet50_fpn\n",
      "88. retinanet_resnet50_fpn_v2\n",
      "89. s3d\n",
      "90. shufflenet_v2_x0_5\n",
      "91. shufflenet_v2_x1_0\n",
      "92. shufflenet_v2_x1_5\n",
      "93. shufflenet_v2_x2_0\n",
      "94. squeezenet1_0\n",
      "95. squeezenet1_1\n",
      "96. ssd300_vgg16\n",
      "97. ssdlite320_mobilenet_v3_large\n",
      "98. swin3d_b\n",
      "99. swin3d_s\n",
      "100. swin3d_t\n",
      "101. swin_b\n",
      "102. swin_s\n",
      "103. swin_t\n",
      "104. swin_v2_b\n",
      "105. swin_v2_s\n",
      "106. swin_v2_t\n",
      "107. vgg11\n",
      "108. vgg11_bn\n",
      "109. vgg13\n",
      "110. vgg13_bn\n",
      "111. vgg16\n",
      "112. vgg16_bn\n",
      "113. vgg19\n",
      "114. vgg19_bn\n",
      "115. vit_b_16\n",
      "116. vit_b_32\n",
      "117. vit_h_14\n",
      "118. vit_l_16\n",
      "119. vit_l_32\n",
      "120. wide_resnet101_2\n",
      "121. wide_resnet50_2\n",
      "122. CustomCifar10Model\n",
      "123. CustomMnistModel\n",
      "\n"
     ]
    }
   ],
   "source": [
    "# if no model type is specified, the default is all\n",
    "!advsecurenet utils models list "
   ]
  },
  {
   "cell_type": "code",
   "execution_count": 19,
   "metadata": {},
   "outputs": [
    {
     "name": "stdout",
     "output_type": "stream",
     "text": [
      "/Users/melih/miniconda3/envs/adv2/lib/python3.11/site-packages/torch/overrides.py:110: UserWarning: 'has_cuda' is deprecated, please use 'torch.backends.cuda.is_built()'\n",
      "  torch.has_cuda,\n",
      "/Users/melih/miniconda3/envs/adv2/lib/python3.11/site-packages/torch/overrides.py:111: UserWarning: 'has_cudnn' is deprecated, please use 'torch.backends.cudnn.is_available()'\n",
      "  torch.has_cudnn,\n",
      "/Users/melih/miniconda3/envs/adv2/lib/python3.11/site-packages/torch/overrides.py:117: UserWarning: 'has_mps' is deprecated, please use 'torch.backends.mps.is_built()'\n",
      "  torch.has_mps,\n",
      "/Users/melih/miniconda3/envs/adv2/lib/python3.11/site-packages/torch/overrides.py:118: UserWarning: 'has_mkldnn' is deprecated, please use 'torch.backends.mkldnn.is_available()'\n",
      "  torch.has_mkldnn,\n",
      "\u001b[32m\u001b[1mLayers of resnet18:\u001b[0m\n",
      "Layer Name                    Layer Type                    \n",
      "layer1.1.relu                 ReLU                          \n",
      "bn1                           BatchNorm2d                   \n",
      "layer1.1.relu_1               NoneType                      \n",
      "layer3.0.relu                 ReLU                          \n",
      "layer4.1.bn2                  BatchNorm2d                   \n",
      "conv1                         Conv2d                        \n",
      "layer2.0.downsample.0         Conv2d                        \n",
      "layer4.0.add                  NoneType                      \n",
      "layer1.0.bn1                  BatchNorm2d                   \n",
      "layer2.0.add                  NoneType                      \n",
      "maxpool                       MaxPool2d                     \n",
      "layer2.0.bn2                  BatchNorm2d                   \n",
      "layer3.0.bn2                  BatchNorm2d                   \n",
      "layer3.1.conv2                Conv2d                        \n",
      "layer1.0.relu_1               NoneType                      \n",
      "layer1.0.relu                 ReLU                          \n",
      "layer3.1.relu                 ReLU                          \n",
      "layer4.1.add                  NoneType                      \n",
      "layer4.0.bn1                  BatchNorm2d                   \n",
      "layer4.0.bn2                  BatchNorm2d                   \n",
      "layer1.1.add                  NoneType                      \n",
      "layer3.0.conv2                Conv2d                        \n",
      "layer2.1.bn1                  BatchNorm2d                   \n",
      "layer1.0.add                  NoneType                      \n",
      "layer3.0.bn1                  BatchNorm2d                   \n",
      "layer4.0.relu_1               NoneType                      \n",
      "layer1.1.bn1                  BatchNorm2d                   \n",
      "layer3.1.bn2                  BatchNorm2d                   \n",
      "layer2.0.relu_1               NoneType                      \n",
      "layer3.1.conv1                Conv2d                        \n",
      "layer4.1.relu                 ReLU                          \n",
      "layer2.0.relu                 ReLU                          \n",
      "layer2.0.bn1                  BatchNorm2d                   \n",
      "layer1.0.conv1                Conv2d                        \n",
      "layer2.0.conv1                Conv2d                        \n",
      "layer3.0.relu_1               NoneType                      \n",
      "layer1.0.conv2                Conv2d                        \n",
      "layer2.0.downsample.1         BatchNorm2d                   \n",
      "flatten                       NoneType                      \n",
      "layer3.0.conv1                Conv2d                        \n",
      "layer4.0.downsample.0         Conv2d                        \n",
      "layer3.1.relu_1               NoneType                      \n",
      "layer4.0.downsample.1         BatchNorm2d                   \n",
      "layer2.1.bn2                  BatchNorm2d                   \n",
      "layer3.0.downsample.1         BatchNorm2d                   \n",
      "layer4.0.relu                 ReLU                          \n",
      "x                             NoneType                      \n",
      "layer2.1.conv2                Conv2d                        \n",
      "layer3.1.bn1                  BatchNorm2d                   \n",
      "avgpool                       AdaptiveAvgPool2d             \n",
      "layer4.1.conv1                Conv2d                        \n",
      "layer2.1.conv1                Conv2d                        \n",
      "layer1.0.bn2                  BatchNorm2d                   \n",
      "layer3.0.add                  NoneType                      \n",
      "layer2.1.add                  NoneType                      \n",
      "layer4.0.conv2                Conv2d                        \n",
      "layer1.1.bn2                  BatchNorm2d                   \n",
      "layer3.0.downsample.0         Conv2d                        \n",
      "layer4.1.relu_1               NoneType                      \n",
      "layer1.1.conv2                Conv2d                        \n",
      "layer2.0.conv2                Conv2d                        \n",
      "layer4.1.bn1                  BatchNorm2d                   \n",
      "layer1.1.conv1                Conv2d                        \n",
      "layer2.1.relu                 ReLU                          \n",
      "fc                            Linear                        \n",
      "layer2.1.relu_1               NoneType                      \n",
      "relu                          ReLU                          \n",
      "layer3.1.add                  NoneType                      \n",
      "layer4.1.conv2                Conv2d                        \n",
      "layer4.0.conv1                Conv2d                        \n"
     ]
    }
   ],
   "source": [
    "!advsecurenet utils models layers -m resnet18"
   ]
  },
  {
   "cell_type": "code",
   "execution_count": 20,
   "metadata": {},
   "outputs": [
    {
     "name": "stdout",
     "output_type": "stream",
     "text": [
      "\u001b[32m\u001b[1mLayers of CustomMnistModel:\u001b[0m\n",
      "Layer Name                    Layer Type                    \n",
      "fc2                           Linear                        \n",
      "size                          NoneType                      \n",
      "conv2                         Conv2d                        \n",
      "relu                          ReLU                          \n",
      "relu_1                        NoneType                      \n",
      "x                             NoneType                      \n",
      "relu_2                        NoneType                      \n",
      "view                          NoneType                      \n",
      "fc1                           Linear                        \n",
      "conv1                         Conv2d                        \n"
     ]
    }
   ],
   "source": [
    "!advsecurenet utils models layers -m CustomMnistModel"
   ]
  },
  {
   "cell_type": "code",
   "execution_count": 21,
   "metadata": {},
   "outputs": [
    {
     "name": "stdout",
     "output_type": "stream",
     "text": [
      "/Users/melih/miniconda3/envs/adv2/lib/python3.11/site-packages/torch/overrides.py:110: UserWarning: 'has_cuda' is deprecated, please use 'torch.backends.cuda.is_built()'\n",
      "  torch.has_cuda,\n",
      "/Users/melih/miniconda3/envs/adv2/lib/python3.11/site-packages/torch/overrides.py:111: UserWarning: 'has_cudnn' is deprecated, please use 'torch.backends.cudnn.is_available()'\n",
      "  torch.has_cudnn,\n",
      "/Users/melih/miniconda3/envs/adv2/lib/python3.11/site-packages/torch/overrides.py:117: UserWarning: 'has_mps' is deprecated, please use 'torch.backends.mps.is_built()'\n",
      "  torch.has_mps,\n",
      "/Users/melih/miniconda3/envs/adv2/lib/python3.11/site-packages/torch/overrides.py:118: UserWarning: 'has_mkldnn' is deprecated, please use 'torch.backends.mkldnn.is_available()'\n",
      "  torch.has_mkldnn,\n",
      "\u001b[32m\u001b[1mLayers of CustomMnistModel:\u001b[0m\n",
      "Layer Name                    Layer Type                    \n",
      "0.truediv                     NoneType                      \n",
      "0.sub                         NoneType                      \n",
      "1.conv2                       Conv2d                        \n",
      "1.size                        NoneType                      \n",
      "0.getattr                     NoneType                      \n",
      "1.fc2                         Linear                        \n",
      "1.relu_1                      NoneType                      \n",
      "1.conv1                       Conv2d                        \n",
      "1.view                        NoneType                      \n",
      "1.relu_2                      NoneType                      \n",
      "1.relu                        ReLU                          \n",
      "input                         NoneType                      \n",
      "0.to_1                        NoneType                      \n",
      "1.fc1                         Linear                        \n",
      "0.to                          NoneType                      \n"
     ]
    }
   ],
   "source": [
    "# It is also possible to inspect the model architecture with a normalization layer\n",
    "!advsecurenet utils models layers -m CustomMnistModel -n"
   ]
  },
  {
   "cell_type": "markdown",
   "metadata": {},
   "source": [
    "## Normalization Parameters\n",
    "\n",
    "You can easily get the normalization parameters for the well-known datasets like CIFAR-10, CIFAR-100, MNIST, FashionMNIST, SVHN, ImageNet using the `normalization` command. You can later use these normalization parameters in the configuration file while defining the model."
   ]
  },
  {
   "cell_type": "code",
   "execution_count": 1,
   "metadata": {},
   "outputs": [
    {
     "name": "stdout",
     "output_type": "stream",
     "text": [
      "Available datasets:\n",
      "- DatasetType.CIFAR10\n",
      "- DatasetType.CIFAR100\n",
      "- DatasetType.IMAGENET\n",
      "- DatasetType.MNIST\n",
      "- DatasetType.SVHN\n",
      "- DatasetType.FASHION_MNIST\n",
      "\n"
     ]
    }
   ],
   "source": [
    "!advsecurenet utils normalization list"
   ]
  },
  {
   "cell_type": "code",
   "execution_count": 2,
   "metadata": {},
   "outputs": [
    {
     "name": "stdout",
     "output_type": "stream",
     "text": [
      "\u001b[1mNormalization parameters for IMAGENET:\u001b[0m\n",
      "\u001b[1mMean: [0.485, 0.456, 0.406]\u001b[0m\n",
      "\u001b[1mStandard Deviation: [0.229, 0.224, 0.225]\u001b[0m\n",
      "\n"
     ]
    }
   ],
   "source": [
    "!advsecurenet utils normalization get -d imagenet"
   ]
  },
  {
   "cell_type": "code",
   "execution_count": 3,
   "metadata": {},
   "outputs": [
    {
     "name": "stdout",
     "output_type": "stream",
     "text": [
      "\u001b[1mNormalization parameters for FASHION_MNIST:\u001b[0m\n",
      "\u001b[1mMean: [0.286]\u001b[0m\n",
      "\u001b[1mStandard Deviation: [0.353]\u001b[0m\n",
      "\n"
     ]
    }
   ],
   "source": [
    "!advsecurenet utils normalization get -d fashion_mnist"
   ]
  },
  {
   "cell_type": "markdown",
   "metadata": {},
   "source": [
    "## Weights\n",
    "\n",
    "It is possible to download the weights of the models using the `weights` command. The weights are available for the PyTorch models, Custom models. For the standard PyTorch models, the weights are downloaded from the `torchvision.models` module. For the Custom models, the weights are downloaded from the package itself if available."
   ]
  },
  {
   "cell_type": "code",
   "execution_count": 4,
   "metadata": {},
   "outputs": [
    {
     "name": "stdout",
     "output_type": "stream",
     "text": [
      "Usage: advsecurenet utils weights [OPTIONS] COMMAND [ARGS]...\n",
      "\n",
      "  Command to model weights.\n",
      "\n",
      "Options:\n",
      "  --help  Show this message and exit.\n",
      "\n",
      "Commands:\n",
      "  download  Command to download model weights from a remote source based...\n",
      "  list      Command to list available weights for a model.\n"
     ]
    }
   ],
   "source": [
    "!advsecurenet utils weights --help"
   ]
  },
  {
   "cell_type": "code",
   "execution_count": 5,
   "metadata": {},
   "outputs": [
    {
     "name": "stdout",
     "output_type": "stream",
     "text": [
      "Available weights for resnet18:\n",
      "\tIMAGENET1K_V1\n"
     ]
    }
   ],
   "source": [
    "!advsecurenet utils weights list -m resnet18"
   ]
  }
 ],
 "metadata": {
  "kernelspec": {
   "display_name": "adv2",
   "language": "python",
   "name": "python3"
  },
  "language_info": {
   "codemirror_mode": {
    "name": "ipython",
    "version": 3
   },
   "file_extension": ".py",
   "mimetype": "text/x-python",
   "name": "python",
   "nbconvert_exporter": "python",
   "pygments_lexer": "ipython3",
   "version": "3.11.5"
  }
 },
 "nbformat": 4,
 "nbformat_minor": 2
}
