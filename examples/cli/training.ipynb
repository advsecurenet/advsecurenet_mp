{
 "cells": [
  {
   "cell_type": "markdown",
   "metadata": {},
   "source": [
    "In addition to using `AdvSecureNet` as a Python API, it's also possible to use it as a command line tool. This is useful for training and evaluating models, as well as for generating adversarial examples. This notebook shows how to train a model using the command line tool."
   ]
  },
  {
   "cell_type": "code",
   "execution_count": 1,
   "metadata": {},
   "outputs": [
    {
     "name": "stdout",
     "output_type": "stream",
     "text": [
      "Name: AdvSecureNet\n",
      "Version: 0.1\n",
      "Summary: Adversarial Secure Networks\n",
      "Home-page: https://github.com/melihcatal/advsecurenet\n",
      "Author: Melih Catal\n",
      "Author-email: melih.catal@uzh.ch\n",
      "License: \n",
      "Location: /Users/melih/Desktop/master tezi/spe/advsecurenet\n",
      "Editable project location: /Users/melih/Desktop/master tezi/spe/advsecurenet\n",
      "Requires: click, colored, opencv-python, pytest, pytest-mock, PyYAML, torch, torchvision, tqdm\n",
      "Required-by: \n"
     ]
    }
   ],
   "source": [
    "# check if the package is installed if not install it\n",
    "!pip show advsecurenet\n",
    "# !pip install advsecurenet"
   ]
  },
  {
   "cell_type": "code",
   "execution_count": 2,
   "metadata": {},
   "outputs": [
    {
     "name": "stdout",
     "output_type": "stream",
     "text": [
      "Usage: advsecurenet [OPTIONS] COMMAND [ARGS]...\n",
      "\n",
      "Options:\n",
      "  --help  Show this message and exit.\n",
      "\n",
      "Commands:\n",
      "  attack\n",
      "  available-weights  Command to list available weights for a model.\n",
      "  config-default     Generate a default configuration file based on the...\n",
      "  configs            Return the list of available configuration files.\n",
      "  defense\n",
      "  download-weights   Command to download model weights from a remote...\n",
      "  models             Command to list available models.\n",
      "  test               Command to evaluate a model.\n",
      "  train              Command to train a model.\n"
     ]
    }
   ],
   "source": [
    "# check the available commands\n",
    "!advsecurenet --help"
   ]
  },
  {
   "cell_type": "code",
   "execution_count": 3,
   "metadata": {},
   "outputs": [
    {
     "name": "stdout",
     "output_type": "stream",
     "text": [
      "Usage: advsecurenet train [OPTIONS]\n",
      "\n",
      "  Command to train a model.\n",
      "\n",
      "  Args:     config (str, optional): Path to the training configuration yml\n",
      "  file.     model_name (str): The name of the model (e.g. \"resnet18\").\n",
      "  dataset_name (str): The name of the dataset to train on (e.g. \"cifar10\").\n",
      "  epochs (int, optional): The number of epochs to train for.     batch_size\n",
      "  (int, optional): The batch size for training.     lr (float, optional): The\n",
      "  learning rate for training.     optimizer (str, optional): The optimizer to\n",
      "  use for training.     loss (str, optional): The loss function to use for\n",
      "  training.     save (bool, optional): Whether to save the model after\n",
      "  training. Defaults to False.     save_path (str, optional): The directory to\n",
      "  save the model to. If not specified, defaults to the weights directory\n",
      "  save_name (str, optional): The name to save the model as. If not specified,\n",
      "  defaults to the {model_name}_{dataset_name}_weights.pth.     device (str,\n",
      "  optional): The device to train on. Defaults to CPU\n",
      "\n",
      "  Examples:\n",
      "\n",
      "          >>> advsecurenet train --model-name=resnet18 --dataset-name=cifar10\n",
      "          or         >>> advsecurenet train --config=train_config.yml\n",
      "\n",
      "  Raises:     ValueError: If the model name or dataset name is not provided.\n",
      "\n",
      "  Notes:     If a configuration file is provided, the CLI arguments will\n",
      "  override the configuration file. The CLI arguments have priority.\n",
      "  Configuration file attributes must match the CLI arguments. For example, if\n",
      "  the configuration file has a \"model_name\" attribute, the CLI argument must\n",
      "  be named \"model_name\" as well.\n",
      "\n",
      "Options:\n",
      "  -c, --config PATH         Path to the training configuration yml file.\n",
      "  -m, --model-name TEXT     Name of the model to train (e.g. \"resnet18\").\n",
      "  -d, --dataset-name TEXT   Name of the dataset to train on (e.g. \"cifar10\").\n",
      "  -e, --epochs INTEGER      Number of epochs to train for. Defaults to 1.\n",
      "  -b, --batch-size INTEGER  Batch size for training.\n",
      "  --lr FLOAT                Learning rate for training.\n",
      "  --optimizer TEXT          Optimizer to use for training. Available options:\n",
      "                            SGD, ADAM, ADAMW, RMS_PROP, ADAGRAD, ADAMAX, ASGD,\n",
      "                            LBFGS, R_PROP\n",
      "  --loss TEXT               Loss function to use for training. Available\n",
      "                            options: CROSS_ENTROPY, NLL_LOSS,\n",
      "                            MARGIN_RANKING_LOSS, BCE_LOSS,\n",
      "                            BCE_WITH_LOGITS_LOSS, HINGE_EMBEDDING_LOSS,\n",
      "                            COSINE_EMBEDDING_LOSS, MULTI_MARGIN_LOSS,\n",
      "                            SMOOTH_L1_LOSS, SOFT_MARGIN_LOSS,\n",
      "                            MULTI_LABEL_MARGIN_LOSS, TRIPLET_MARGIN_LOSS,\n",
      "                            POISSON_NLL_LOSS, KLDIV_LOSS, MSELoss, L1_LOSS,\n",
      "                            NLL_LOSS2D\n",
      "  -s, --save                Whether to save the model after training. Defaults\n",
      "                            to False.\n",
      "  --save-path TEXT          The directory to save the model to. If not\n",
      "                            specified, defaults to the weights directory.\n",
      "  --save-name TEXT          The name to save the model as. If not specified,\n",
      "                            defaults to the\n",
      "                            {model_name}_{dataset_name}_weights.pth.\n",
      "  --device TEXT             The device to train on. Defaults to CPU\n",
      "  --help                    Show this message and exit.\n"
     ]
    }
   ],
   "source": [
    "# we want to use the training command\n",
    "!advsecurenet train --help"
   ]
  },
  {
   "cell_type": "code",
   "execution_count": 4,
   "metadata": {},
   "outputs": [
    {
     "name": "stdout",
     "output_type": "stream",
     "text": [
      "Usage: advsecurenet config-default [OPTIONS]\n",
      "\n",
      "  Generate a default configuration file based on the name of the configuration\n",
      "  to use.\n",
      "\n",
      "  Args:\n",
      "\n",
      "      config_name (str): The name of the configuration file to use.\n",
      "      output_path (str): The directory to save the configuration file to. If\n",
      "      not specified, defaults to the current working directory. It can also be\n",
      "      a full path including the filename.\n",
      "\n",
      "  Examples:\n",
      "\n",
      "      >>>  advsecurenet config-default -c train -p     Default configuration\n",
      "      file for train: ....     >>> advsecurenet config-default -c train -s\n",
      "      Saving default config to ... Generated default configuration file train!\n",
      "      >>> advsecurenet config-default -c train -s -o\n",
      "      ./myconfigs/mytrain_config.yml     Saving default config to\n",
      "      ./myconfigs/mytrain_config.yml ... Generated default configuration file\n",
      "      train! Notes:\n",
      "\n",
      "      If you are unsure which configuration file to use, use the \"configs\"\n",
      "      command to list available configuration files. You can discard the\n",
      "      _config.yml suffix when specifying the configuration name.     You can\n",
      "      provide a full path including the filename to the output path. If the\n",
      "      directory does not exist, it will be created. If the file already\n",
      "      exists, it will be overwritten.     You can provide the relative path to\n",
      "      the output path. Make sure it ends with a slash (e.g., ./myconfigs/).\n",
      "\n",
      "Options:\n",
      "  -c, --config-name TEXT  Name of the configuration file to use. If you are\n",
      "                          unsure, use the \"configs\" command to list available\n",
      "                          configuration files.\n",
      "  -s, --save              Whether to save the configuration file to the\n",
      "                          current directory. Defaults to False.\n",
      "  -p, --print-output      Whether to print the configuration file to the\n",
      "                          console. Defaults to False.\n",
      "  -o, --output-path TEXT  The directory to save the configuration file to. If\n",
      "                          not specified, defaults to the current working\n",
      "                          directory.\n",
      "  --help                  Show this message and exit.\n"
     ]
    }
   ],
   "source": [
    "!advsecurenet config-default --help"
   ]
  },
  {
   "cell_type": "code",
   "execution_count": 5,
   "metadata": {},
   "outputs": [
    {
     "name": "stdout",
     "output_type": "stream",
     "text": [
      "Available configuration files: \n",
      "\n",
      "1. pgd_attack_config.yml\n",
      "2. adversarial_training_config.yml\n",
      "3. fgsm_attack_config.yml\n",
      "4. train_config.yml\n",
      "5. lots_attack_config.yml\n",
      "6. test_config.yml\n",
      "7. cw_attack_config.yml\n",
      "8. deepfool_attack_config.yml\n",
      "\n"
     ]
    }
   ],
   "source": [
    "# we can either use a config file or pass the arguments directly. To use a config file, we need to get the default config file\n",
    "!advsecurenet configs"
   ]
  },
  {
   "cell_type": "code",
   "execution_count": 6,
   "metadata": {},
   "outputs": [],
   "source": [
    "# get default training config file\n",
    "!advsecurenet config-default -c train "
   ]
  },
  {
   "cell_type": "code",
   "execution_count": 7,
   "metadata": {},
   "outputs": [
    {
     "name": "stdout",
     "output_type": "stream",
     "text": [
      "Saving default config to ./my_train_config.yml\n",
      "Generated default configuration file train!\n"
     ]
    }
   ],
   "source": [
    "# we can also save the default config file to a specific location\n",
    "!advsecurenet config-default -c train -s -o ./my_train_config.yml\n"
   ]
  },
  {
   "cell_type": "code",
   "execution_count": 8,
   "metadata": {},
   "outputs": [
    {
     "name": "stdout",
     "output_type": "stream",
     "text": [
      "./my_train_config.yml\n",
      "Files already downloaded and verified\n",
      "Files already downloaded and verified\n",
      "Training on mps\n",
      "Epoch 1/1 : 100%|███████████████████████████| 1563/1563 [02:07<00:00, 12.29it/s]\n",
      "Epoch 1 - Average Loss: 1.437133\n",
      "Saving model to ./weights/\n",
      "Testing on mps\n",
      "Testing: 100%|█████████████████████████████| 313/313 [00:29<00:00, 10.46batch/s]\n",
      "\n",
      "Test set: Average loss: 0.0389, Accuracy: 5800/10000 (58.00%)\n",
      "Model trained on CIFAR10!\n"
     ]
    }
   ],
   "source": [
    "# It's possible to save the trained model to a specific location to use it later\n",
    "!advsecurenet train -c ./my_train_config.yml --device mps --save-path ./weights/ --save-name my_model --save"
   ]
  },
  {
   "cell_type": "code",
   "execution_count": 9,
   "metadata": {},
   "outputs": [],
   "source": [
    "# we want to train a model with the default config file\n",
    "# !advsecurenet train -c ./my_train_config.yml"
   ]
  },
  {
   "cell_type": "code",
   "execution_count": 10,
   "metadata": {},
   "outputs": [],
   "source": [
    "# It's also possible to pass the arguments directly. If you want to use both config file and arguments, the arguments will overwrite the config file. So it's okay to overwrite some of the arguments in the config file and keep the rest of the arguments in the config file.\n",
    "# default device was cpu, we want to use mps (apple silicon gpu). You can also use cuda if you have a nvidia gpu\n",
    "# !advsecurenet train -c ./my_train_config.yml --device mps"
   ]
  },
  {
   "cell_type": "code",
   "execution_count": 14,
   "metadata": {},
   "outputs": [
    {
     "name": "stdout",
     "output_type": "stream",
     "text": [
      "No configuration file provided for evaluation! Using default configuration...\n",
      "/Users/melih/Desktop/master tezi/spe/advsecurenet/advsecurenet/configs/cli/test_config.yml\n",
      "Files already downloaded and verified\n",
      "Testing on mps\n",
      "Testing: 100%|█████████████████████████████| 313/313 [00:31<00:00,  9.79batch/s]\n",
      "\n",
      "Test set: Average loss: 0.0389, Accuracy: 5800/10000 (58.00%)\n"
     ]
    }
   ],
   "source": [
    "# It's possible to load a pretrained model and test it on the test dataset\n",
    "!advsecurenet test --model-name resnet18 --dataset-name cifar10 --model-weights ./weights/my_model.pth --device mps"
   ]
  }
 ],
 "metadata": {
  "kernelspec": {
   "display_name": "Python 3",
   "language": "python",
   "name": "python3"
  },
  "language_info": {
   "codemirror_mode": {
    "name": "ipython",
    "version": 3
   },
   "file_extension": ".py",
   "mimetype": "text/x-python",
   "name": "python",
   "nbconvert_exporter": "python",
   "pygments_lexer": "ipython3",
   "version": "3.10.10"
  }
 },
 "nbformat": 4,
 "nbformat_minor": 2
}
