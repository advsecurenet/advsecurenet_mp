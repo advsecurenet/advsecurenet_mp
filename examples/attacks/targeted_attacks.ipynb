{
  "cells": [
    {
      "cell_type": "markdown",
      "metadata": {},
      "source": [
        "Targeted attacks (`LOTS`, `CW`) expects target images along with the original images that will be attacked. It's possible to manually provide these target images. However, to make it easier, we provide a function to generate target images automatically. The function is called `generate_target_images`. It takes the original images and the labels of the original images as input and returns the target images and the labels of the target images. The function is implemented in `from advsecurenet.utils.adversarial_target_generator import AdversarialTargetGenerator`. This helper function can be used for any attack method that requires target images. This notebook shows how to use this function."
      ]
    },
    {
      "cell_type": "code",
      "execution_count": 1,
      "metadata": {},
      "outputs": [
        {
          "name": "stderr",
          "output_type": "stream",
          "text": [
            "/home/user/catal/miniconda3/envs/new/lib/python3.11/site-packages/tqdm/auto.py:21: TqdmWarning: IProgress not found. Please update jupyter and ipywidgets. See https://ipywidgets.readthedocs.io/en/stable/user_install.html\n",
            "  from .autonotebook import tqdm as notebook_tqdm\n"
          ]
        }
      ],
      "source": [
        "from advsecurenet.utils.adversarial_target_generator import AdversarialTargetGenerator\n",
        "from advsecurenet.datasets.dataset_factory import DatasetFactory\n",
        "from advsecurenet.dataloader import DataLoaderFactory\n",
        "from advsecurenet.shared.types.dataset import DatasetType\n",
        "from advsecurenet.models.model_factory import ModelFactory\n",
        "from advsecurenet.defenses import AdversarialTraining\n",
        "from advsecurenet.attacks.lots import LOTS\n",
        "from advsecurenet.attacks.cw import CWAttack\n",
        "from advsecurenet.shared.types.configs.defense_configs.adversarial_training_config import AdversarialTrainingConfig\n",
        "from tqdm.auto import tqdm\n",
        "import advsecurenet.shared.types.configs.attack_configs as AttackConfigs\n"
      ]
    },
    {
      "cell_type": "code",
      "execution_count": 2,
      "metadata": {},
      "outputs": [],
      "source": [
        "model = ModelFactory.create_model(model_name='resnet18', num_classes=10, pretrained=True)"
      ]
    },
    {
      "cell_type": "code",
      "execution_count": 3,
      "metadata": {},
      "outputs": [],
      "source": [
        "dataset_obj =  DatasetFactory.create_dataset(DatasetType.CIFAR10)"
      ]
    },
    {
      "cell_type": "code",
      "execution_count": 4,
      "metadata": {},
      "outputs": [
        {
          "name": "stdout",
          "output_type": "stream",
          "text": [
            "Files already downloaded and verified\n"
          ]
        }
      ],
      "source": [
        "test_data = dataset_obj.load_dataset(train=False)\n",
        "test_loader = DataLoaderFactory.create_dataloader(dataset=test_data, batch_size=128, shuffle=False)"
      ]
    },
    {
      "cell_type": "code",
      "execution_count": 5,
      "metadata": {},
      "outputs": [],
      "source": [
        "adversarial_target_generator = AdversarialTargetGenerator()"
      ]
    },
    {
      "cell_type": "markdown",
      "metadata": {},
      "source": [
        "## LOTS"
      ]
    },
    {
      "cell_type": "code",
      "execution_count": 6,
      "metadata": {},
      "outputs": [
        {
          "data": {
            "text/plain": [
              "['conv1',\n",
              " 'bn1',\n",
              " 'relu',\n",
              " 'maxpool',\n",
              " 'layer1',\n",
              " 'layer1.0',\n",
              " 'layer1.0.conv1',\n",
              " 'layer1.0.bn1',\n",
              " 'layer1.0.relu',\n",
              " 'layer1.0.conv2',\n",
              " 'layer1.0.bn2',\n",
              " 'layer1.1',\n",
              " 'layer1.1.conv1',\n",
              " 'layer1.1.bn1',\n",
              " 'layer1.1.relu',\n",
              " 'layer1.1.conv2',\n",
              " 'layer1.1.bn2',\n",
              " 'layer2',\n",
              " 'layer2.0',\n",
              " 'layer2.0.conv1',\n",
              " 'layer2.0.bn1',\n",
              " 'layer2.0.relu',\n",
              " 'layer2.0.conv2',\n",
              " 'layer2.0.bn2',\n",
              " 'layer2.0.downsample',\n",
              " 'layer2.0.downsample.0',\n",
              " 'layer2.0.downsample.1',\n",
              " 'layer2.1',\n",
              " 'layer2.1.conv1',\n",
              " 'layer2.1.bn1',\n",
              " 'layer2.1.relu',\n",
              " 'layer2.1.conv2',\n",
              " 'layer2.1.bn2',\n",
              " 'layer3',\n",
              " 'layer3.0',\n",
              " 'layer3.0.conv1',\n",
              " 'layer3.0.bn1',\n",
              " 'layer3.0.relu',\n",
              " 'layer3.0.conv2',\n",
              " 'layer3.0.bn2',\n",
              " 'layer3.0.downsample',\n",
              " 'layer3.0.downsample.0',\n",
              " 'layer3.0.downsample.1',\n",
              " 'layer3.1',\n",
              " 'layer3.1.conv1',\n",
              " 'layer3.1.bn1',\n",
              " 'layer3.1.relu',\n",
              " 'layer3.1.conv2',\n",
              " 'layer3.1.bn2',\n",
              " 'layer4',\n",
              " 'layer4.0',\n",
              " 'layer4.0.conv1',\n",
              " 'layer4.0.bn1',\n",
              " 'layer4.0.relu',\n",
              " 'layer4.0.conv2',\n",
              " 'layer4.0.bn2',\n",
              " 'layer4.0.downsample',\n",
              " 'layer4.0.downsample.0',\n",
              " 'layer4.0.downsample.1',\n",
              " 'layer4.1',\n",
              " 'layer4.1.conv1',\n",
              " 'layer4.1.bn1',\n",
              " 'layer4.1.relu',\n",
              " 'layer4.1.conv2',\n",
              " 'layer4.1.bn2',\n",
              " 'avgpool',\n",
              " 'fc']"
            ]
          },
          "execution_count": 6,
          "metadata": {},
          "output_type": "execute_result"
        }
      ],
      "source": [
        "# LOTS Attack expects a target layer\n",
        "model.get_layer_names()"
      ]
    },
    {
      "cell_type": "code",
      "execution_count": 7,
      "metadata": {},
      "outputs": [],
      "source": [
        "target_layer = \"model.fc\" # this is the name of the layer that we want to target - this assumes that the model has a layer named fc2\n",
        "lots_config = AttackConfigs.LotsAttackConfig(\n",
        "    deep_feature_layer=target_layer,\n",
        "    mode = AttackConfigs.LotsAttackMode.SINGLE,\n",
        "    max_iterations=1000,\n",
        "    learning_rate=0.1,\n",
        "    epsilon=0.01,\n",
        "    device = \"cuda:2\"\n",
        ")\n",
        "lots = LOTS(lots_config)"
      ]
    },
    {
      "cell_type": "code",
      "execution_count": 8,
      "metadata": {},
      "outputs": [
        {
          "name": "stderr",
          "output_type": "stream",
          "text": [
            "  0%|          | 0/79 [00:00<?, ?it/s]/home/user/catal/miniconda3/envs/new/lib/python3.11/site-packages/torch/overrides.py:110: UserWarning: 'has_cuda' is deprecated, please use 'torch.backends.cuda.is_built()'\n",
            "  torch.has_cuda,\n",
            "/home/user/catal/miniconda3/envs/new/lib/python3.11/site-packages/torch/overrides.py:111: UserWarning: 'has_cudnn' is deprecated, please use 'torch.backends.cudnn.is_available()'\n",
            "  torch.has_cudnn,\n",
            "/home/user/catal/miniconda3/envs/new/lib/python3.11/site-packages/torch/overrides.py:117: UserWarning: 'has_mps' is deprecated, please use 'torch.backends.mps.is_built()'\n",
            "  torch.has_mps,\n",
            "/home/user/catal/miniconda3/envs/new/lib/python3.11/site-packages/torch/overrides.py:118: UserWarning: 'has_mkldnn' is deprecated, please use 'torch.backends.mkldnn.is_available()'\n",
            "  torch.has_mkldnn,\n",
            "100%|██████████| 79/79 [00:09<00:00,  8.55it/s]"
          ]
        },
        {
          "name": "stdout",
          "output_type": "stream",
          "text": [
            "Percentage of images that were successfully attacked: 10.17 \n"
          ]
        },
        {
          "name": "stderr",
          "output_type": "stream",
          "text": [
            "\n"
          ]
        }
      ],
      "source": [
        "total_found = 0\n",
        "for images, labels in tqdm(test_loader, total=len(test_loader)):\n",
        "    # Generate target pairs\n",
        "    paired = adversarial_target_generator.generate_target_images(zip(images, labels))\n",
        "    \n",
        "    # Extract and prepare data\n",
        "    original_images, original_labels, target_images, target_labels = adversarial_target_generator.extract_images_and_labels(paired, images, \"cuda:2\")\n",
        "\n",
        "    # Perform attack\n",
        "    adv_images, is_found = lots.attack(\n",
        "        model=model,\n",
        "        data=original_images,\n",
        "        target=target_images,\n",
        "        target_classes=target_labels,\n",
        "    )\n",
        "    total_found += sum(is_found)\n",
        "# percentage of images that were successfully attacked\n",
        "print(f\"Percentage of images that were successfully attacked: {total_found/len(test_loader.dataset)  * 100} \")"
      ]
    },
    {
      "cell_type": "markdown",
      "metadata": {},
      "source": [
        "## CW Attack"
      ]
    },
    {
      "cell_type": "code",
      "execution_count": 9,
      "metadata": {},
      "outputs": [],
      "source": [
        "cw_attack = AttackConfigs.CWAttackConfig(\n",
        "    targeted = True,\n",
        "    device = \"cuda:2\",\n",
        "    max_iterations = 10,\n",
        "    binary_search_steps = 10,\n",
        ")\n",
        "cw = CWAttack(cw_attack)"
      ]
    },
    {
      "cell_type": "code",
      "execution_count": 10,
      "metadata": {},
      "outputs": [
        {
          "name": "stderr",
          "output_type": "stream",
          "text": [
            "100%|██████████| 79/79 [36:02<00:00, 27.38s/it]\n"
          ]
        },
        {
          "name": "stdout",
          "output_type": "stream",
          "text": [
            "Success Rate: 10.17%\n"
          ]
        },
        {
          "ename": "",
          "evalue": "",
          "output_type": "error",
          "traceback": [
            "\u001b[1;31mThe Kernel crashed while executing code in the the current cell or a previous cell. Please review the code in the cell(s) to identify a possible cause of the failure. Click <a href='https://aka.ms/vscodeJupyterKernelCrash'>here</a> for more info. View Jupyter <a href='command:jupyter.viewOutput'>log</a> for further details."
          ]
        }
      ],
      "source": [
        "import torch\n",
        "from tqdm.auto import tqdm\n",
        "\n",
        "# Assuming model, test_loader, adversarial_target_generator, and cw are already defined\n",
        "model = model.to(\"cuda:2\")\n",
        "\n",
        "# Initialize a list to hold adversarial images and labels\n",
        "adv_images = []\n",
        "all_original_labels = []\n",
        "all_target_labels = []\n",
        "\n",
        "for images, labels in tqdm(test_loader, total=len(test_loader)):\n",
        "    # Generate target pairs\n",
        "    paired = adversarial_target_generator.generate_target_images(zip(images, labels))\n",
        "    \n",
        "    # Extract and prepare data\n",
        "    original_images, original_labels, target_images, target_labels = adversarial_target_generator.extract_images_and_labels(paired, images, \"cuda:2\")\n",
        "    target_labels = target_labels.to(\"cuda:2\")\n",
        "    original_images = original_images.to(\"cuda:2\")\n",
        "\n",
        "    # Perform attack\n",
        "    current_adv_images = cw.attack(\n",
        "        model,\n",
        "        original_images,\n",
        "        target_labels\n",
        "    )\n",
        "\n",
        "    # Store adversarial images and corresponding labels\n",
        "    adv_images.append(current_adv_images.cpu())\n",
        "    all_original_labels.append(original_labels.cpu())\n",
        "    all_target_labels.append(target_labels.cpu())\n",
        "\n",
        "# Concatenate all adversarial images and labels\n",
        "adv_images = torch.cat(adv_images, dim=0)\n",
        "all_original_labels = torch.cat(all_original_labels, dim=0)\n",
        "all_target_labels = torch.cat(all_target_labels, dim=0)\n",
        "\n",
        "# Move model back to cuda for prediction\n",
        "model = model.to(\"cuda:2\")\n",
        "\n",
        "# Predict labels for adversarial images\n",
        "adv_predictions = model(adv_images.to(\"cuda:2\")).argmax(dim=1)\n",
        "all_target_labels = all_target_labels.to(\"cuda:2\")\n",
        "# Calculate success rate\n",
        "success = (adv_predictions == all_target_labels).float()\n",
        "\n",
        "success_rate = success.mean().item()\n",
        "\n",
        "# Print the success rate as a percentage\n",
        "print(f\"Success Rate: {success_rate * 100:.2f}%\")\n"
      ]
    },
    {
      "cell_type": "markdown",
      "metadata": {},
      "source": [
        "## CLI Usage\n",
        "Currently the CLI only supports the `LOTS` attack."
      ]
    },
    {
      "cell_type": "code",
      "execution_count": 1,
      "metadata": {},
      "outputs": [
        {
          "name": "stdout",
          "output_type": "stream",
          "text": [
            "Executing lots attack...\n",
            "Generating adversarial samples using LOTS attack...\n",
            "Files already downloaded and verified\n",
            "Files already downloaded and verified\n",
            "Generating adversarial samples:   0%|                     | 0/1 [00:00<?, ?it/s]\n",
            "\u001b[38;5;1mRunning LOTS\u001b[0m:   0%|\u001b[38;5;3m                                    \u001b[0m| 0/1000 [00:00<?, ?it/s]\u001b[0m\u001b[A\n",
            "                                                                                \u001b[AAttack success rate: 10.00%\n",
            "Generating adversarial samples: 100%|█████████████| 1/1 [00:01<00:00,  1.54s/it]\n",
            "Succesfully generated adversarial samples! Attack success rate: 10.00%\n"
          ]
        }
      ],
      "source": [
        "!advsecurenet attack lots -c ./lots_attack_config.yml"
      ]
    }
  ],
  "metadata": {
    "kernelspec": {
      "display_name": "Python new",
      "language": "python",
      "name": "new"
    },
    "language_info": {
      "codemirror_mode": {
        "name": "ipython",
        "version": 3
      },
      "file_extension": ".py",
      "mimetype": "text/x-python",
      "name": "python",
      "nbconvert_exporter": "python",
      "pygments_lexer": "ipython3",
      "version": "3.11.5"
    }
  },
  "nbformat": 4,
  "nbformat_minor": 2
}
