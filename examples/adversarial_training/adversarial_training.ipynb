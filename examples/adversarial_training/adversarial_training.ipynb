{
 "cells": [
  {
   "cell_type": "code",
   "execution_count": 1,
   "metadata": {},
   "outputs": [
    {
     "name": "stderr",
     "output_type": "stream",
     "text": [
      "/Users/melih/.pyenv/versions/3.10.10/lib/python3.10/site-packages/tqdm/auto.py:21: TqdmWarning: IProgress not found. Please update jupyter and ipywidgets. See https://ipywidgets.readthedocs.io/en/stable/user_install.html\n",
      "  from .autonotebook import tqdm as notebook_tqdm\n"
     ]
    }
   ],
   "source": [
    "from tqdm import tqdm\n",
    "from advsecurenet.models.model_factory import ModelFactory\n",
    "from advsecurenet.datasets import DatasetFactory\n",
    "from advsecurenet.dataloader import DataLoaderFactory\n",
    "from advsecurenet.shared.types import DatasetType\n",
    "from advsecurenet.utils.model_utils import train as train_model, test as test_model, save_model\n",
    "from advsecurenet.shared.types.configs.train_config import TrainConfig\n",
    "from advsecurenet.defenses import AdversarialTraining\n",
    "from advsecurenet.attacks.fgsm import FGSM\n",
    "from advsecurenet.attacks.pgd import PGD\n",
    "from advsecurenet.shared.types.configs.defense_configs.adversarial_training_config import AdversarialTrainingConfig\n",
    "import advsecurenet.shared.types.configs.attack_configs as AttackConfigs\n",
    "\n"
   ]
  },
  {
   "cell_type": "code",
   "execution_count": 2,
   "metadata": {},
   "outputs": [
    {
     "name": "stdout",
     "output_type": "stream",
     "text": [
      "custom module name advsecurenet.models.CustomModels.CustomMnistModel\n"
     ]
    },
    {
     "data": {
      "text/plain": [
       "CustomModel(\n",
       "  (model): CustomMnistModel(\n",
       "    (conv1): Conv2d(1, 32, kernel_size=(3, 3), stride=(1, 1), padding=(1, 1))\n",
       "    (conv2): Conv2d(32, 64, kernel_size=(3, 3), stride=(1, 1), padding=(1, 1))\n",
       "    (fc1): Linear(in_features=50176, out_features=512, bias=True)\n",
       "    (relu): ReLU()\n",
       "    (fc2): Linear(in_features=512, out_features=10, bias=True)\n",
       "  )\n",
       ")"
      ]
     },
     "execution_count": 2,
     "metadata": {},
     "output_type": "execute_result"
    }
   ],
   "source": [
    "# load basic MNIST model\n",
    "mnist_model = ModelFactory.get_model(model_variant='CustomMnistModel', num_classes=10, num_input_channels=1)\n",
    "mnist_model"
   ]
  },
  {
   "cell_type": "code",
   "execution_count": 3,
   "metadata": {},
   "outputs": [
    {
     "name": "stdout",
     "output_type": "stream",
     "text": [
      "Train dataset size: 60000\n",
      "Test dataset size: 10000\n"
     ]
    }
   ],
   "source": [
    "# load MNIST dataset\n",
    "dataset = DatasetFactory.load_dataset(DatasetType.MNIST)\n",
    "train_data = dataset.load_dataset(train=True)\n",
    "test_data = dataset.load_dataset(train=False)\n",
    "train_loader = DataLoaderFactory.get_dataloader(dataset=train_data, batch_size=128, shuffle=True)\n",
    "test_loader = DataLoaderFactory.get_dataloader(dataset=test_data, batch_size=128, shuffle=False)\n",
    "print(f\"Train dataset size: {len(train_data)}\")\n",
    "print(f\"Test dataset size: {len(test_data)}\")"
   ]
  },
  {
   "cell_type": "code",
   "execution_count": 4,
   "metadata": {},
   "outputs": [
    {
     "name": "stdout",
     "output_type": "stream",
     "text": [
      "Training on mps\n"
     ]
    },
    {
     "name": "stderr",
     "output_type": "stream",
     "text": [
      "Epoch 1/5: 100%|██████████| 469/469 [00:46<00:00, 10.02it/s]\n"
     ]
    },
    {
     "name": "stdout",
     "output_type": "stream",
     "text": [
      "Epoch 1 - Average Loss: 0.152647\n"
     ]
    },
    {
     "name": "stderr",
     "output_type": "stream",
     "text": [
      "Epoch 2/5: 100%|██████████| 469/469 [00:43<00:00, 10.68it/s]\n"
     ]
    },
    {
     "name": "stdout",
     "output_type": "stream",
     "text": [
      "Epoch 2 - Average Loss: 0.033289\n"
     ]
    },
    {
     "name": "stderr",
     "output_type": "stream",
     "text": [
      "Epoch 3/5: 100%|██████████| 469/469 [00:43<00:00, 10.69it/s]\n"
     ]
    },
    {
     "name": "stdout",
     "output_type": "stream",
     "text": [
      "Epoch 3 - Average Loss: 0.016008\n"
     ]
    },
    {
     "name": "stderr",
     "output_type": "stream",
     "text": [
      "Epoch 4/5: 100%|██████████| 469/469 [00:46<00:00, 10.04it/s]\n"
     ]
    },
    {
     "name": "stdout",
     "output_type": "stream",
     "text": [
      "Epoch 4 - Average Loss: 0.011060\n"
     ]
    },
    {
     "name": "stderr",
     "output_type": "stream",
     "text": [
      "Epoch 5/5: 100%|██████████| 469/469 [00:44<00:00, 10.61it/s]\n"
     ]
    },
    {
     "name": "stdout",
     "output_type": "stream",
     "text": [
      "Epoch 5 - Average Loss: 0.008047\n",
      "Training completed.\n",
      "Testing on cpu\n"
     ]
    },
    {
     "name": "stderr",
     "output_type": "stream",
     "text": [
      "Testing: 100%|██████████| 79/79 [00:04<00:00, 16.11batch/s]"
     ]
    },
    {
     "name": "stdout",
     "output_type": "stream",
     "text": [
      "\n",
      "Test set: Average loss: 0.0004, Accuracy: 9868/10000 (98.68%)\n"
     ]
    },
    {
     "name": "stderr",
     "output_type": "stream",
     "text": [
      "\n"
     ]
    },
    {
     "data": {
      "text/plain": [
       "(0.00038117431555874647, 98.68)"
      ]
     },
     "execution_count": 4,
     "metadata": {},
     "output_type": "execute_result"
    }
   ],
   "source": [
    "# first normal training\n",
    "train_config = TrainConfig(model= mnist_model, train_loader=train_loader, epochs=5, device=\"mps\")\n",
    "train_model(train_config)\n",
    "test_model(mnist_model, test_loader)"
   ]
  },
  {
   "cell_type": "code",
   "execution_count": 6,
   "metadata": {},
   "outputs": [],
   "source": [
    "# Function to test model robustness against different attacks\n",
    "def test_model_robustness(model, test_loader, attack, device):\n",
    "    model.eval()  # Set the model to evaluation mode\n",
    "\n",
    "    # Initialize counters\n",
    "    correct = 0\n",
    "    adv_correct = 0\n",
    "    total = 0\n",
    "\n",
    "    for data, target in tqdm(test_loader, desc='Testing'):\n",
    "        # Send data and target to the same device as your model\n",
    "        data, target = data.to(device), target.to(device)\n",
    "        \n",
    "        # Get the original model's predictions\n",
    "        output = model(data)\n",
    "        pred = output.argmax(dim=1, keepdim=True)\n",
    "        correct += pred.eq(target.view_as(pred)).sum().item()\n",
    "        \n",
    "        # Generate adversarial data using the provided attack method\n",
    "        fgsm_data = attack.attack(model=model, x=data, y=target)\n",
    "        \n",
    "        # Get the model's predictions on the adversarial data\n",
    "        adv_output = model(fgsm_data)\n",
    "        adv_pred = adv_output.argmax(dim=1, keepdim=True)\n",
    "        adv_correct += adv_pred.eq(target.view_as(adv_pred)).sum().item()\n",
    "\n",
    "        total += target.size(0)\n",
    "\n",
    "    # Calculate the original accuracy\n",
    "    original_accuracy = correct / total\n",
    "\n",
    "    # Calculate the adversarial accuracy\n",
    "    adversarial_accuracy = adv_correct / total\n",
    "\n",
    "    # Calculate the robustness as the difference in accuracies\n",
    "    robustness = original_accuracy - adversarial_accuracy\n",
    "\n",
    "    print(f'Original Accuracy: {original_accuracy:.2%}')\n",
    "    print(f'Adversarial Accuracy: {adversarial_accuracy:.2%}')\n",
    "    print(f'Robustness (Accuracy Drop): {robustness:.2%}')\n"
   ]
  },
  {
   "cell_type": "code",
   "execution_count": 7,
   "metadata": {},
   "outputs": [],
   "source": [
    "# get FGSM attack\n",
    "fgsm_config = AttackConfigs.FgsmAttackConfig(epsilon=0.5, device=\"mps\")\n",
    "fgsm = FGSM(fgsm_config)"
   ]
  },
  {
   "cell_type": "code",
   "execution_count": 8,
   "metadata": {},
   "outputs": [
    {
     "name": "stderr",
     "output_type": "stream",
     "text": [
      "Testing: 100%|██████████| 79/79 [00:11<00:00,  6.95it/s]"
     ]
    },
    {
     "name": "stdout",
     "output_type": "stream",
     "text": [
      "Original Accuracy: 98.68%\n",
      "Adversarial Accuracy: 86.36%\n",
      "Robustness (Accuracy Drop): 12.32%\n"
     ]
    },
    {
     "name": "stderr",
     "output_type": "stream",
     "text": [
      "\n"
     ]
    }
   ],
   "source": [
    "# Testing base model against FGSM attack \n",
    "test_model_robustness(mnist_model, test_loader, fgsm, device=\"mps\")"
   ]
  },
  {
   "cell_type": "code",
   "execution_count": 9,
   "metadata": {},
   "outputs": [
    {
     "name": "stdout",
     "output_type": "stream",
     "text": [
      "custom module name advsecurenet.models.CustomModels.CustomMnistModel\n",
      "Adversarial Training: Using mps for training\n"
     ]
    },
    {
     "name": "stderr",
     "output_type": "stream",
     "text": [
      "Epoch 1/5: 100%|██████████| 469/469 [01:26<00:00,  5.43it/s]\n"
     ]
    },
    {
     "name": "stdout",
     "output_type": "stream",
     "text": [
      "Epoch 1 - Average Loss: 0.158982\n"
     ]
    },
    {
     "name": "stderr",
     "output_type": "stream",
     "text": [
      "Epoch 2/5: 100%|██████████| 469/469 [01:27<00:00,  5.36it/s]\n"
     ]
    },
    {
     "name": "stdout",
     "output_type": "stream",
     "text": [
      "Epoch 2 - Average Loss: 0.026850\n"
     ]
    },
    {
     "name": "stderr",
     "output_type": "stream",
     "text": [
      "Epoch 3/5: 100%|██████████| 469/469 [01:26<00:00,  5.42it/s]\n"
     ]
    },
    {
     "name": "stdout",
     "output_type": "stream",
     "text": [
      "Epoch 3 - Average Loss: 0.017244\n"
     ]
    },
    {
     "name": "stderr",
     "output_type": "stream",
     "text": [
      "Epoch 4/5: 100%|██████████| 469/469 [01:26<00:00,  5.41it/s]\n"
     ]
    },
    {
     "name": "stdout",
     "output_type": "stream",
     "text": [
      "Epoch 4 - Average Loss: 0.017341\n"
     ]
    },
    {
     "name": "stderr",
     "output_type": "stream",
     "text": [
      "Epoch 5/5: 100%|██████████| 469/469 [01:26<00:00,  5.39it/s]\n"
     ]
    },
    {
     "name": "stdout",
     "output_type": "stream",
     "text": [
      "Epoch 5 - Average Loss: 0.025401\n",
      "Adversarial Training: Training complete!\n"
     ]
    }
   ],
   "source": [
    "# use fgsm to adversarially train the model\n",
    "robust_model = ModelFactory.get_model(model_variant='CustomMnistModel', num_classes=10, num_input_channels=1)\n",
    "adversarial_training_config = AdversarialTrainingConfig(model=robust_model, models=[robust_model], attacks=[fgsm], train_loader=train_loader, epochs=5, device=\"mps\")\n",
    "adversarial_training = AdversarialTraining(adversarial_training_config)\n",
    "adversarial_training.adversarial_training()"
   ]
  },
  {
   "cell_type": "code",
   "execution_count": 10,
   "metadata": {},
   "outputs": [
    {
     "name": "stdout",
     "output_type": "stream",
     "text": [
      "Testing on cpu\n"
     ]
    },
    {
     "name": "stderr",
     "output_type": "stream",
     "text": [
      "Testing: 100%|██████████| 79/79 [00:04<00:00, 16.09batch/s]"
     ]
    },
    {
     "name": "stdout",
     "output_type": "stream",
     "text": [
      "\n",
      "Test set: Average loss: 0.0003, Accuracy: 9897/10000 (98.97%)\n"
     ]
    },
    {
     "name": "stderr",
     "output_type": "stream",
     "text": [
      "\n"
     ]
    },
    {
     "data": {
      "text/plain": [
       "(0.000337365595212259, 98.97)"
      ]
     },
     "execution_count": 10,
     "metadata": {},
     "output_type": "execute_result"
    }
   ],
   "source": [
    "# testing the clean accuracy of the adversarially trained model\n",
    "test_model(robust_model, test_loader)"
   ]
  }
 ],
 "metadata": {
  "kernelspec": {
   "display_name": "Python 3",
   "language": "python",
   "name": "python3"
  },
  "language_info": {
   "codemirror_mode": {
    "name": "ipython",
    "version": 3
   },
   "file_extension": ".py",
   "mimetype": "text/x-python",
   "name": "python",
   "nbconvert_exporter": "python",
   "pygments_lexer": "ipython3",
   "version": "3.10.10"
  }
 },
 "nbformat": 4,
 "nbformat_minor": 2
}
