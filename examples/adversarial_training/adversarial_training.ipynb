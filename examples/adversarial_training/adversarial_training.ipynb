{
 "cells": [
  {
   "cell_type": "code",
   "execution_count": 1,
   "metadata": {},
   "outputs": [
    {
     "name": "stderr",
     "output_type": "stream",
     "text": [
      "/home/user/catal/miniconda3/envs/new/lib/python3.11/site-packages/tqdm/auto.py:21: TqdmWarning: IProgress not found. Please update jupyter and ipywidgets. See https://ipywidgets.readthedocs.io/en/stable/user_install.html\n",
      "  from .autonotebook import tqdm as notebook_tqdm\n"
     ]
    }
   ],
   "source": [
    "from tqdm import tqdm\n",
    "from advsecurenet.models.model_factory import ModelFactory\n",
    "from advsecurenet.datasets import DatasetFactory\n",
    "from advsecurenet.dataloader import DataLoaderFactory\n",
    "from advsecurenet.shared.types import DatasetType\n",
    "from advsecurenet.utils.model_utils import save_model\n",
    "from advsecurenet.shared.types.configs.train_config import TrainConfig\n",
    "from advsecurenet.defenses import AdversarialTraining\n",
    "from advsecurenet.attacks.fgsm import FGSM\n",
    "from advsecurenet.attacks.pgd import PGD\n",
    "from advsecurenet.attacks.lots import LOTS\n",
    "from advsecurenet.shared.types.configs.defense_configs.adversarial_training_config import AdversarialTrainingConfig\n",
    "import advsecurenet.shared.types.configs.attack_configs as AttackConfigs\n",
    "from advsecurenet.utils.tester import Tester\n",
    "from advsecurenet.utils.trainer import Trainer\n",
    "\n"
   ]
  },
  {
   "cell_type": "code",
   "execution_count": 2,
   "metadata": {},
   "outputs": [
    {
     "data": {
      "text/plain": [
       "CustomModel(\n",
       "  (model): CustomMnistModel(\n",
       "    (conv1): Conv2d(1, 32, kernel_size=(3, 3), stride=(1, 1), padding=(1, 1))\n",
       "    (conv2): Conv2d(32, 64, kernel_size=(3, 3), stride=(1, 1), padding=(1, 1))\n",
       "    (fc1): Linear(in_features=50176, out_features=512, bias=True)\n",
       "    (relu): ReLU()\n",
       "    (fc2): Linear(in_features=512, out_features=10, bias=True)\n",
       "  )\n",
       ")"
      ]
     },
     "execution_count": 2,
     "metadata": {},
     "output_type": "execute_result"
    }
   ],
   "source": [
    "# load basic MNIST model\n",
    "mnist_model = ModelFactory.create_model(model_name='CustomMnistModel', num_classes=10, num_input_channels=1)\n",
    "mnist_model"
   ]
  },
  {
   "cell_type": "code",
   "execution_count": 3,
   "metadata": {},
   "outputs": [
    {
     "name": "stdout",
     "output_type": "stream",
     "text": [
      "Train dataset size: 60000\n",
      "Test dataset size: 10000\n"
     ]
    }
   ],
   "source": [
    "# load MNIST dataset\n",
    "dataset = DatasetFactory.create_dataset(DatasetType.MNIST)\n",
    "train_data = dataset.load_dataset(train=True)\n",
    "test_data = dataset.load_dataset(train=False)\n",
    "train_loader = DataLoaderFactory.create_dataloader(dataset=train_data, batch_size=128, shuffle=True)\n",
    "test_loader = DataLoaderFactory.create_dataloader(dataset=test_data, batch_size=128, shuffle=False)\n",
    "print(f\"Train dataset size: {len(train_data)}\")\n",
    "print(f\"Test dataset size: {len(test_data)}\")"
   ]
  },
  {
   "cell_type": "code",
   "execution_count": 4,
   "metadata": {},
   "outputs": [
    {
     "name": "stderr",
     "output_type": "stream",
     "text": [
      "100%|██████████| 469/469 [00:10<00:00, 44.13it/s]"
     ]
    },
    {
     "name": "stdout",
     "output_type": "stream",
     "text": [
      "Epoch 1 loss: 0.14634578182562583\n"
     ]
    },
    {
     "name": "stderr",
     "output_type": "stream",
     "text": [
      "\n"
     ]
    }
   ],
   "source": [
    "# first normal training\n",
    "train_config = TrainConfig(model= mnist_model, train_loader=train_loader, epochs=1, device=\"cuda:2\")\n",
    "trainer = Trainer(train_config)\n",
    "trainer.train()"
   ]
  },
  {
   "cell_type": "code",
   "execution_count": 5,
   "metadata": {},
   "outputs": [],
   "source": [
    "# Function to test model robustness against different attacks\n",
    "def test_model_robustness(model, test_loader, attack, device):\n",
    "    model.eval()  # Set the model to evaluation mode\n",
    "\n",
    "    # Initialize counters\n",
    "    correct = 0\n",
    "    adv_correct = 0\n",
    "    total = 0\n",
    "\n",
    "    for data, target in tqdm(test_loader, desc='Testing'):\n",
    "        # Send data and target to the same device as your model\n",
    "        data, target = data.to(device), target.to(device)\n",
    "        \n",
    "        # Get the original model's predictions\n",
    "        output = model(data)\n",
    "        pred = output.argmax(dim=1, keepdim=True)\n",
    "        correct += pred.eq(target.view_as(pred)).sum().item()\n",
    "        \n",
    "        # Generate adversarial data using the provided attack method\n",
    "        fgsm_data = attack.attack(model=model, x=data, y=target)\n",
    "        \n",
    "        # Get the model's predictions on the adversarial data\n",
    "        adv_output = model(fgsm_data)\n",
    "        adv_pred = adv_output.argmax(dim=1, keepdim=True)\n",
    "        adv_correct += adv_pred.eq(target.view_as(adv_pred)).sum().item()\n",
    "\n",
    "        total += target.size(0)\n",
    "\n",
    "    # Calculate the original accuracy\n",
    "    original_accuracy = correct / total\n",
    "\n",
    "    # Calculate the adversarial accuracy\n",
    "    adversarial_accuracy = adv_correct / total\n",
    "\n",
    "    # Calculate the robustness as the difference in accuracies\n",
    "    robustness = original_accuracy - adversarial_accuracy\n",
    "\n",
    "    print(f'Original Accuracy: {original_accuracy:.2%}')\n",
    "    print(f'Adversarial Accuracy: {adversarial_accuracy:.2%}')\n",
    "    print(f'Robustness (Accuracy Drop): {robustness:.2%}')\n"
   ]
  },
  {
   "cell_type": "code",
   "execution_count": 6,
   "metadata": {},
   "outputs": [],
   "source": [
    "# get FGSM attack\n",
    "fgsm_config = AttackConfigs.FgsmAttackConfig(epsilon=0.5, device=\"cuda:2\")\n",
    "fgsm = FGSM(fgsm_config)"
   ]
  },
  {
   "cell_type": "code",
   "execution_count": 7,
   "metadata": {},
   "outputs": [
    {
     "name": "stderr",
     "output_type": "stream",
     "text": [
      "Testing: 100%|██████████| 79/79 [00:01<00:00, 47.02it/s]"
     ]
    },
    {
     "name": "stdout",
     "output_type": "stream",
     "text": [
      "Original Accuracy: 98.45%\n",
      "Adversarial Accuracy: 88.34%\n",
      "Robustness (Accuracy Drop): 10.11%\n"
     ]
    },
    {
     "name": "stderr",
     "output_type": "stream",
     "text": [
      "\n"
     ]
    }
   ],
   "source": [
    "# Testing base model against FGSM attack \n",
    "test_model_robustness(mnist_model, test_loader, fgsm, device=\"cuda:2\")"
   ]
  },
  {
   "cell_type": "code",
   "execution_count": 8,
   "metadata": {},
   "outputs": [
    {
     "name": "stdout",
     "output_type": "stream",
     "text": [
      "Running epoch 1...\n"
     ]
    },
    {
     "name": "stderr",
     "output_type": "stream",
     "text": [
      "Training: 100%|██████████| 469/469 [00:16<00:00, 28.10it/s]"
     ]
    },
    {
     "name": "stdout",
     "output_type": "stream",
     "text": [
      "Epoch 1/1 Loss: 0.14964635183077568\n"
     ]
    },
    {
     "name": "stderr",
     "output_type": "stream",
     "text": [
      "\n"
     ]
    }
   ],
   "source": [
    "# use fgsm to adversarially train the model\n",
    "robust_model = ModelFactory.create_model(model_name='CustomMnistModel', num_classes=10, num_input_channels=1)\n",
    "adversarial_training_config = AdversarialTrainingConfig(model=robust_model, models=[robust_model], attacks=[fgsm], train_loader=train_loader, epochs=1, device=\"cuda:2\")\n",
    "adversarial_training = AdversarialTraining(adversarial_training_config)\n",
    "adversarial_training.train()"
   ]
  },
  {
   "cell_type": "code",
   "execution_count": 9,
   "metadata": {},
   "outputs": [
    {
     "name": "stdout",
     "output_type": "stream",
     "text": [
      "Testing on cuda:2\n"
     ]
    },
    {
     "name": "stderr",
     "output_type": "stream",
     "text": [
      "Testing: 100%|██████████| 79/79 [00:00<00:00, 79.32batch/s] "
     ]
    },
    {
     "name": "stdout",
     "output_type": "stream",
     "text": [
      "\n",
      "Test set: Average loss: 0.0004, Accuracy: 9809/10000 (98.09%)\n"
     ]
    },
    {
     "name": "stderr",
     "output_type": "stream",
     "text": [
      "\n"
     ]
    },
    {
     "data": {
      "text/plain": [
       "(0.000422191862994805, 98.09)"
      ]
     },
     "execution_count": 9,
     "metadata": {},
     "output_type": "execute_result"
    }
   ],
   "source": [
    "# testing the clean accuracy of the adversarially trained model\n",
    "tester = Tester(model=robust_model, test_loader=test_loader, device=\"cuda:2\")\n",
    "tester.test()"
   ]
  },
  {
   "cell_type": "code",
   "execution_count": 10,
   "metadata": {},
   "outputs": [],
   "source": [
    "# generate the adversarial image using PGD attack\n",
    "target_layer = \"model.fc2\" # this is the name of the layer that we want to target - this assumes that the model has a layer named fc2\n",
    "lots_config = AttackConfigs.LotsAttackConfig(\n",
    "    deep_feature_layer=target_layer,\n",
    "    mode = AttackConfigs.LotsAttackMode.SINGLE,\n",
    "    max_iterations=10000000,\n",
    "    learning_rate=0.1,\n",
    "    epsilon=0.01,\n",
    "    device = \"cuda:2\"\n",
    ")\n",
    "lots = LOTS(lots_config)"
   ]
  },
  {
   "cell_type": "code",
   "execution_count": 11,
   "metadata": {},
   "outputs": [
    {
     "name": "stdout",
     "output_type": "stream",
     "text": [
      "Running epoch 1...\n"
     ]
    },
    {
     "name": "stderr",
     "output_type": "stream",
     "text": [
      "Training: 100%|██████████| 469/469 [00:29<00:00, 15.72it/s]\n"
     ]
    },
    {
     "name": "stdout",
     "output_type": "stream",
     "text": [
      "Epoch 1/1 Loss: 1.2340536783498997\n"
     ]
    }
   ],
   "source": [
    "# use fgsm to adversarially train the model\n",
    "robust_model = ModelFactory.create_model(model_name='CustomMnistModel', num_classes=10, num_input_channels=1)\n",
    "adversarial_training_config = AdversarialTrainingConfig(model=robust_model, models=[robust_model], attacks=[lots], train_loader=train_loader, epochs=1, device=\"cuda:2\")\n",
    "adversarial_training = AdversarialTraining(adversarial_training_config)\n",
    "adversarial_training.train()"
   ]
  },
  {
   "cell_type": "code",
   "execution_count": 12,
   "metadata": {},
   "outputs": [
    {
     "name": "stdout",
     "output_type": "stream",
     "text": [
      "Testing on cuda:2\n"
     ]
    },
    {
     "name": "stderr",
     "output_type": "stream",
     "text": [
      "Testing: 100%|██████████| 79/79 [00:00<00:00, 82.39batch/s] "
     ]
    },
    {
     "name": "stdout",
     "output_type": "stream",
     "text": [
      "\n",
      "Test set: Average loss: 0.0004, Accuracy: 9823/10000 (98.23%)\n"
     ]
    },
    {
     "name": "stderr",
     "output_type": "stream",
     "text": [
      "\n"
     ]
    },
    {
     "data": {
      "text/plain": [
       "(0.00042206173918093553, 98.23)"
      ]
     },
     "execution_count": 12,
     "metadata": {},
     "output_type": "execute_result"
    }
   ],
   "source": [
    "# testing the clean accuracy of the adversarially trained model\n",
    "tester = Tester(model=robust_model, test_loader=test_loader, device=\"cuda:2\")\n",
    "tester.test()"
   ]
  },
  {
   "cell_type": "code",
   "execution_count": 13,
   "metadata": {},
   "outputs": [
    {
     "name": "stderr",
     "output_type": "stream",
     "text": [
      "Testing: 100%|██████████| 79/79 [00:01<00:00, 46.51it/s]"
     ]
    },
    {
     "name": "stdout",
     "output_type": "stream",
     "text": [
      "Original Accuracy: 98.23%\n",
      "Adversarial Accuracy: 11.47%\n",
      "Robustness (Accuracy Drop): 86.76%\n"
     ]
    },
    {
     "name": "stderr",
     "output_type": "stream",
     "text": [
      "\n"
     ]
    }
   ],
   "source": [
    "# Testing base model against FGSM attack \n",
    "test_model_robustness(robust_model, test_loader, fgsm, device=\"cuda:2\")"
   ]
  }
 ],
 "metadata": {
  "kernelspec": {
   "display_name": "Python new",
   "language": "python",
   "name": "new"
  },
  "language_info": {
   "codemirror_mode": {
    "name": "ipython",
    "version": 3
   },
   "file_extension": ".py",
   "mimetype": "text/x-python",
   "name": "python",
   "nbconvert_exporter": "python",
   "pygments_lexer": "ipython3",
   "version": "3.11.5"
  }
 },
 "nbformat": 4,
 "nbformat_minor": 2
}
