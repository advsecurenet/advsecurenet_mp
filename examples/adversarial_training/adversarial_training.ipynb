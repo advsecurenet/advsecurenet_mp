{
 "cells": [
  {
   "cell_type": "code",
   "execution_count": 1,
   "metadata": {},
   "outputs": [
    {
     "name": "stderr",
     "output_type": "stream",
     "text": [
      "/Users/melih/.pyenv/versions/3.10.10/lib/python3.10/site-packages/tqdm/auto.py:21: TqdmWarning: IProgress not found. Please update jupyter and ipywidgets. See https://ipywidgets.readthedocs.io/en/stable/user_install.html\n",
      "  from .autonotebook import tqdm as notebook_tqdm\n"
     ]
    }
   ],
   "source": [
    "from tqdm import tqdm\n",
    "from advsecurenet.models.model_factory import ModelFactory\n",
    "from advsecurenet.datasets import DatasetFactory\n",
    "from advsecurenet.dataloader import DataLoaderFactory\n",
    "from advsecurenet.shared.types import DatasetType\n",
    "from advsecurenet.utils.model_utils import train as train_model, test as test_model, save_model\n",
    "from advsecurenet.shared.types.configs.train_config import TrainConfig\n",
    "from advsecurenet.defenses import AdversarialTraining\n",
    "from advsecurenet.attacks.fgsm import FGSM\n",
    "from advsecurenet.attacks.pgd import PGD\n",
    "from advsecurenet.shared.types.configs.defense_configs.adversarial_training_config import AdversarialTrainingConfig\n",
    "import advsecurenet.shared.types.configs.attack_configs as AttackConfigs\n",
    "\n"
   ]
  },
  {
   "cell_type": "code",
   "execution_count": 2,
   "metadata": {},
   "outputs": [
    {
     "name": "stdout",
     "output_type": "stream",
     "text": [
      "custom module name advsecurenet.models.CustomModels.CustomMnistModel\n"
     ]
    },
    {
     "data": {
      "text/plain": [
       "CustomModel(\n",
       "  (model): CustomMnistModel(\n",
       "    (conv1): Conv2d(1, 32, kernel_size=(3, 3), stride=(1, 1), padding=(1, 1))\n",
       "    (conv2): Conv2d(32, 64, kernel_size=(3, 3), stride=(1, 1), padding=(1, 1))\n",
       "    (fc1): Linear(in_features=50176, out_features=512, bias=True)\n",
       "    (relu): ReLU()\n",
       "    (fc2): Linear(in_features=512, out_features=10, bias=True)\n",
       "  )\n",
       ")"
      ]
     },
     "execution_count": 2,
     "metadata": {},
     "output_type": "execute_result"
    }
   ],
   "source": [
    "# load basic MNIST model\n",
    "mnist_model = ModelFactory.get_model(model_variant='CustomMnistModel', num_classes=10, num_input_channels=1)\n",
    "mnist_model"
   ]
  },
  {
   "cell_type": "code",
   "execution_count": 3,
   "metadata": {},
   "outputs": [
    {
     "name": "stdout",
     "output_type": "stream",
     "text": [
      "Train dataset size: 60000\n",
      "Test dataset size: 10000\n"
     ]
    }
   ],
   "source": [
    "# load MNIST dataset\n",
    "dataset = DatasetFactory.load_dataset(DatasetType.MNIST)\n",
    "train_data = dataset.load_dataset(train=True)\n",
    "test_data = dataset.load_dataset(train=False)\n",
    "train_loader = DataLoaderFactory.get_dataloader(dataset=train_data, batch_size=128, shuffle=True)\n",
    "test_loader = DataLoaderFactory.get_dataloader(dataset=test_data, batch_size=128, shuffle=False)\n",
    "print(f\"Train dataset size: {len(train_data)}\")\n",
    "print(f\"Test dataset size: {len(test_data)}\")"
   ]
  },
  {
   "cell_type": "code",
   "execution_count": 4,
   "metadata": {},
   "outputs": [
    {
     "name": "stdout",
     "output_type": "stream",
     "text": [
      "Training on mps\n"
     ]
    },
    {
     "name": "stderr",
     "output_type": "stream",
     "text": [
      "Epoch 1/5: 100%|██████████| 469/469 [00:47<00:00,  9.96it/s]\n"
     ]
    },
    {
     "name": "stdout",
     "output_type": "stream",
     "text": [
      "Epoch 1 - Average Loss: 0.177251\n"
     ]
    },
    {
     "name": "stderr",
     "output_type": "stream",
     "text": [
      "Epoch 2/5: 100%|██████████| 469/469 [00:47<00:00,  9.89it/s]\n"
     ]
    },
    {
     "name": "stdout",
     "output_type": "stream",
     "text": [
      "Epoch 2 - Average Loss: 0.035584\n"
     ]
    },
    {
     "name": "stderr",
     "output_type": "stream",
     "text": [
      "Epoch 3/5: 100%|██████████| 469/469 [00:44<00:00, 10.55it/s]\n"
     ]
    },
    {
     "name": "stdout",
     "output_type": "stream",
     "text": [
      "Epoch 3 - Average Loss: 0.018143\n"
     ]
    },
    {
     "name": "stderr",
     "output_type": "stream",
     "text": [
      "Epoch 4/5: 100%|██████████| 469/469 [00:44<00:00, 10.61it/s]\n"
     ]
    },
    {
     "name": "stdout",
     "output_type": "stream",
     "text": [
      "Epoch 4 - Average Loss: 0.010711\n"
     ]
    },
    {
     "name": "stderr",
     "output_type": "stream",
     "text": [
      "Epoch 5/5: 100%|██████████| 469/469 [00:44<00:00, 10.46it/s]\n"
     ]
    },
    {
     "name": "stdout",
     "output_type": "stream",
     "text": [
      "Epoch 5 - Average Loss: 0.009179\n",
      "Training completed.\n",
      "Testing on cpu\n"
     ]
    },
    {
     "name": "stderr",
     "output_type": "stream",
     "text": [
      "Testing: 100%|██████████| 79/79 [00:05<00:00, 15.35batch/s]"
     ]
    },
    {
     "name": "stdout",
     "output_type": "stream",
     "text": [
      "\n",
      "Test set: Average loss: 0.0003, Accuracy: 9883/10000 (98.83%)\n"
     ]
    },
    {
     "name": "stderr",
     "output_type": "stream",
     "text": [
      "\n"
     ]
    },
    {
     "data": {
      "text/plain": [
       "(0.00031243681694002136, 98.83)"
      ]
     },
     "execution_count": 4,
     "metadata": {},
     "output_type": "execute_result"
    }
   ],
   "source": [
    "# first normal training\n",
    "train_config = TrainConfig(model= mnist_model, train_loader=train_loader, epochs=5, device=\"mps\")\n",
    "train_model(train_config)\n",
    "test_model(mnist_model, test_loader)"
   ]
  },
  {
   "cell_type": "code",
   "execution_count": 5,
   "metadata": {},
   "outputs": [],
   "source": [
    "# Function to test model robustness against different attacks\n",
    "def test_model_robustness(model, test_loader, attack, device):\n",
    "    model.eval()  # Set the model to evaluation mode\n",
    "\n",
    "    # Initialize counters\n",
    "    correct = 0\n",
    "    adv_correct = 0\n",
    "    total = 0\n",
    "\n",
    "    for data, target in tqdm(test_loader, desc='Testing'):\n",
    "        # Send data and target to the same device as your model\n",
    "        data, target = data.to(device), target.to(device)\n",
    "        \n",
    "        # Get the original model's predictions\n",
    "        output = model(data)\n",
    "        pred = output.argmax(dim=1, keepdim=True)\n",
    "        correct += pred.eq(target.view_as(pred)).sum().item()\n",
    "        \n",
    "        # Generate adversarial data using the provided attack method\n",
    "        fgsm_data = attack.attack(model=model, x=data, y=target)\n",
    "        \n",
    "        # Get the model's predictions on the adversarial data\n",
    "        adv_output = model(fgsm_data)\n",
    "        adv_pred = adv_output.argmax(dim=1, keepdim=True)\n",
    "        adv_correct += adv_pred.eq(target.view_as(adv_pred)).sum().item()\n",
    "\n",
    "        total += target.size(0)\n",
    "\n",
    "    # Calculate the original accuracy\n",
    "    original_accuracy = correct / total\n",
    "\n",
    "    # Calculate the adversarial accuracy\n",
    "    adversarial_accuracy = adv_correct / total\n",
    "\n",
    "    # Calculate the robustness as the difference in accuracies\n",
    "    robustness = original_accuracy - adversarial_accuracy\n",
    "\n",
    "    print(f'Original Accuracy: {original_accuracy:.2%}')\n",
    "    print(f'Adversarial Accuracy: {adversarial_accuracy:.2%}')\n",
    "    print(f'Robustness (Accuracy Drop): {robustness:.2%}')\n"
   ]
  },
  {
   "cell_type": "code",
   "execution_count": 9,
   "metadata": {},
   "outputs": [],
   "source": [
    "# get FGSM attack\n",
    "fgsm_config = AttackConfigs.FgsmAttackConfig(epsilon=0.5, device=\"cpu\")\n",
    "fgsm = FGSM(fgsm_config)"
   ]
  },
  {
   "cell_type": "code",
   "execution_count": 10,
   "metadata": {},
   "outputs": [
    {
     "name": "stderr",
     "output_type": "stream",
     "text": [
      "Testing: 100%|██████████| 79/79 [00:18<00:00,  4.17it/s]"
     ]
    },
    {
     "name": "stdout",
     "output_type": "stream",
     "text": [
      "Original Accuracy: 98.83%\n",
      "Adversarial Accuracy: 85.64%\n",
      "Robustness (Accuracy Drop): 13.19%\n"
     ]
    },
    {
     "name": "stderr",
     "output_type": "stream",
     "text": [
      "\n"
     ]
    }
   ],
   "source": [
    "# Testing base model against FGSM attack \n",
    "test_model_robustness(mnist_model, test_loader, fgsm, device=\"cpu\")"
   ]
  },
  {
   "cell_type": "code",
   "execution_count": 12,
   "metadata": {},
   "outputs": [
    {
     "name": "stdout",
     "output_type": "stream",
     "text": [
      "custom module name advsecurenet.models.CustomModels.CustomMnistModel\n",
      "Adversarial Training: Using cpu for training\n"
     ]
    },
    {
     "name": "stderr",
     "output_type": "stream",
     "text": [
      "Epoch 1/5:   3%|▎         | 12/469 [00:08<05:38,  1.35it/s]\n"
     ]
    },
    {
     "ename": "KeyboardInterrupt",
     "evalue": "",
     "output_type": "error",
     "traceback": [
      "\u001b[0;31m---------------------------------------------------------------------------\u001b[0m",
      "\u001b[0;31mKeyboardInterrupt\u001b[0m                         Traceback (most recent call last)",
      "\u001b[1;32m/Users/melih/Desktop/master tezi/spe/advsecurenet/examples/adversarial_training/adversarial_training.ipynb Cell 8\u001b[0m line \u001b[0;36m5\n\u001b[1;32m      <a href='vscode-notebook-cell:/Users/melih/Desktop/master%20tezi/spe/advsecurenet/examples/adversarial_training/adversarial_training.ipynb#X30sZmlsZQ%3D%3D?line=2'>3</a>\u001b[0m adversarial_training_config \u001b[39m=\u001b[39m AdversarialTrainingConfig(model\u001b[39m=\u001b[39mrobust_model, models\u001b[39m=\u001b[39m[robust_model], attacks\u001b[39m=\u001b[39m[fgsm], train_loader\u001b[39m=\u001b[39mtrain_loader, epochs\u001b[39m=\u001b[39m\u001b[39m5\u001b[39m, device\u001b[39m=\u001b[39m\u001b[39m\"\u001b[39m\u001b[39mcpu\u001b[39m\u001b[39m\"\u001b[39m)\n\u001b[1;32m      <a href='vscode-notebook-cell:/Users/melih/Desktop/master%20tezi/spe/advsecurenet/examples/adversarial_training/adversarial_training.ipynb#X30sZmlsZQ%3D%3D?line=3'>4</a>\u001b[0m adversarial_training \u001b[39m=\u001b[39m AdversarialTraining(adversarial_training_config)\n\u001b[0;32m----> <a href='vscode-notebook-cell:/Users/melih/Desktop/master%20tezi/spe/advsecurenet/examples/adversarial_training/adversarial_training.ipynb#X30sZmlsZQ%3D%3D?line=4'>5</a>\u001b[0m adversarial_training\u001b[39m.\u001b[39;49madversarial_training()\n",
      "File \u001b[0;32m~/Desktop/master tezi/spe/advsecurenet/advsecurenet/defenses/adversarial_training.py:26\u001b[0m, in \u001b[0;36mAdversarialTraining.adversarial_training\u001b[0;34m(self)\u001b[0m\n\u001b[1;32m     24\u001b[0m optimizer \u001b[39m=\u001b[39m _initialize_optimizer(\u001b[39mself\u001b[39m\u001b[39m.\u001b[39mconfig)\n\u001b[1;32m     25\u001b[0m \u001b[39mprint\u001b[39m(\u001b[39mf\u001b[39m\u001b[39m\"\u001b[39m\u001b[39mAdversarial Training: Using \u001b[39m\u001b[39m{\u001b[39;00mdevice\u001b[39m}\u001b[39;00m\u001b[39m for training\u001b[39m\u001b[39m\"\u001b[39m)\n\u001b[0;32m---> 26\u001b[0m \u001b[39mself\u001b[39;49m\u001b[39m.\u001b[39;49m_adversarial_training(\u001b[39mself\u001b[39;49m\u001b[39m.\u001b[39;49mconfig, device, optimizer)\n",
      "File \u001b[0;32m~/Desktop/master tezi/spe/advsecurenet/advsecurenet/defenses/adversarial_training.py:107\u001b[0m, in \u001b[0;36mAdversarialTraining._adversarial_training\u001b[0;34m(self, config, device, optimizer)\u001b[0m\n\u001b[1;32m    105\u001b[0m \u001b[39m# train model\u001b[39;00m\n\u001b[1;32m    106\u001b[0m \u001b[39mfor\u001b[39;00m epoch \u001b[39min\u001b[39;00m \u001b[39mrange\u001b[39m(start_epoch, config\u001b[39m.\u001b[39mepochs \u001b[39m+\u001b[39m \u001b[39m1\u001b[39m):\n\u001b[0;32m--> 107\u001b[0m     total_loss \u001b[39m=\u001b[39m \u001b[39mself\u001b[39;49m\u001b[39m.\u001b[39;49m_train_epoch(\n\u001b[1;32m    108\u001b[0m         config, device, optimizer, loss_function, epoch)\n\u001b[1;32m    109\u001b[0m     average_loss \u001b[39m=\u001b[39m total_loss \u001b[39m/\u001b[39m \u001b[39mlen\u001b[39m(config\u001b[39m.\u001b[39mtrain_loader)\n\u001b[1;32m    110\u001b[0m     \u001b[39mif\u001b[39;00m config\u001b[39m.\u001b[39mverbose:\n",
      "File \u001b[0;32m~/Desktop/master tezi/spe/advsecurenet/advsecurenet/defenses/adversarial_training.py:81\u001b[0m, in \u001b[0;36mAdversarialTraining._train_epoch\u001b[0;34m(self, config, device, optimizer, loss_function, epoch)\u001b[0m\n\u001b[1;32m     79\u001b[0m outputs \u001b[39m=\u001b[39m config\u001b[39m.\u001b[39mmodel(combined_data)\n\u001b[1;32m     80\u001b[0m loss \u001b[39m=\u001b[39m loss_function(outputs, combined_target)\n\u001b[0;32m---> 81\u001b[0m loss\u001b[39m.\u001b[39;49mbackward()\n\u001b[1;32m     82\u001b[0m optimizer\u001b[39m.\u001b[39mstep()\n\u001b[1;32m     84\u001b[0m total_loss \u001b[39m+\u001b[39m\u001b[39m=\u001b[39m loss\u001b[39m.\u001b[39mitem()\n",
      "File \u001b[0;32m~/.pyenv/versions/3.10.10/lib/python3.10/site-packages/torch/_tensor.py:487\u001b[0m, in \u001b[0;36mTensor.backward\u001b[0;34m(self, gradient, retain_graph, create_graph, inputs)\u001b[0m\n\u001b[1;32m    477\u001b[0m \u001b[39mif\u001b[39;00m has_torch_function_unary(\u001b[39mself\u001b[39m):\n\u001b[1;32m    478\u001b[0m     \u001b[39mreturn\u001b[39;00m handle_torch_function(\n\u001b[1;32m    479\u001b[0m         Tensor\u001b[39m.\u001b[39mbackward,\n\u001b[1;32m    480\u001b[0m         (\u001b[39mself\u001b[39m,),\n\u001b[0;32m   (...)\u001b[0m\n\u001b[1;32m    485\u001b[0m         inputs\u001b[39m=\u001b[39minputs,\n\u001b[1;32m    486\u001b[0m     )\n\u001b[0;32m--> 487\u001b[0m torch\u001b[39m.\u001b[39;49mautograd\u001b[39m.\u001b[39;49mbackward(\n\u001b[1;32m    488\u001b[0m     \u001b[39mself\u001b[39;49m, gradient, retain_graph, create_graph, inputs\u001b[39m=\u001b[39;49minputs\n\u001b[1;32m    489\u001b[0m )\n",
      "File \u001b[0;32m~/.pyenv/versions/3.10.10/lib/python3.10/site-packages/torch/autograd/__init__.py:200\u001b[0m, in \u001b[0;36mbackward\u001b[0;34m(tensors, grad_tensors, retain_graph, create_graph, grad_variables, inputs)\u001b[0m\n\u001b[1;32m    195\u001b[0m     retain_graph \u001b[39m=\u001b[39m create_graph\n\u001b[1;32m    197\u001b[0m \u001b[39m# The reason we repeat same the comment below is that\u001b[39;00m\n\u001b[1;32m    198\u001b[0m \u001b[39m# some Python versions print out the first line of a multi-line function\u001b[39;00m\n\u001b[1;32m    199\u001b[0m \u001b[39m# calls in the traceback and some print out the last line\u001b[39;00m\n\u001b[0;32m--> 200\u001b[0m Variable\u001b[39m.\u001b[39;49m_execution_engine\u001b[39m.\u001b[39;49mrun_backward(  \u001b[39m# Calls into the C++ engine to run the backward pass\u001b[39;49;00m\n\u001b[1;32m    201\u001b[0m     tensors, grad_tensors_, retain_graph, create_graph, inputs,\n\u001b[1;32m    202\u001b[0m     allow_unreachable\u001b[39m=\u001b[39;49m\u001b[39mTrue\u001b[39;49;00m, accumulate_grad\u001b[39m=\u001b[39;49m\u001b[39mTrue\u001b[39;49;00m)\n",
      "\u001b[0;31mKeyboardInterrupt\u001b[0m: "
     ]
    }
   ],
   "source": [
    "# use fgsm to adversarially train the model\n",
    "robust_model = ModelFactory.get_model(model_variant='CustomMnistModel', num_classes=10, num_input_channels=1)\n",
    "adversarial_training_config = AdversarialTrainingConfig(model=robust_model, models=[robust_model], attacks=[fgsm], train_loader=train_loader, epochs=5, device=\"cpu\")\n",
    "adversarial_training = AdversarialTraining(adversarial_training_config)\n",
    "adversarial_training.adversarial_training()"
   ]
  },
  {
   "cell_type": "code",
   "execution_count": null,
   "metadata": {},
   "outputs": [],
   "source": [
    "# testing the clean accuracy of the adversarially trained model\n",
    "test_model(robust_model, test_loader)"
   ]
  }
 ],
 "metadata": {
  "kernelspec": {
   "display_name": "Python 3",
   "language": "python",
   "name": "python3"
  },
  "language_info": {
   "codemirror_mode": {
    "name": "ipython",
    "version": 3
   },
   "file_extension": ".py",
   "mimetype": "text/x-python",
   "name": "python",
   "nbconvert_exporter": "python",
   "pygments_lexer": "ipython3",
   "version": "3.10.10"
  }
 },
 "nbformat": 4,
 "nbformat_minor": 2
}
