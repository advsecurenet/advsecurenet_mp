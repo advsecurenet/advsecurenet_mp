{
 "cells": [
  {
   "cell_type": "markdown",
   "metadata": {},
   "source": [
    "This notebook shows how to adversarially train a network using a multiple attacks and a model. The attacks are chosen to be the FGSM and PGD attacks. The model is chosen to be the ResNet18 model. The dataset is chosen to be the CIFAR10 dataset. The notebook shows both how to use CLI and how to use the API."
   ]
  },
  {
   "cell_type": "markdown",
   "metadata": {},
   "source": [
    "## API Usage"
   ]
  },
  {
   "cell_type": "code",
   "execution_count": 5,
   "metadata": {},
   "outputs": [],
   "source": [
    "from tqdm.auto import tqdm\n",
    "from advsecurenet.models.model_factory import ModelFactory\n",
    "from advsecurenet.datasets import DatasetFactory\n",
    "from advsecurenet.dataloader import DataLoaderFactory\n",
    "from advsecurenet.shared.types import DatasetType\n",
    "from advsecurenet.defenses import AdversarialTraining\n",
    "from advsecurenet.attacks.fgsm import FGSM\n",
    "from advsecurenet.attacks.pgd import PGD\n",
    "from advsecurenet.shared.types.configs.defense_configs.adversarial_training_config import AdversarialTrainingConfig\n",
    "import advsecurenet.shared.types.configs.attack_configs as AttackConfigs\n",
    "\n",
    "\n"
   ]
  },
  {
   "cell_type": "code",
   "execution_count": 2,
   "metadata": {},
   "outputs": [],
   "source": [
    "model = ModelFactory.create_model(model_name='resnet18', num_classes=10)"
   ]
  },
  {
   "cell_type": "code",
   "execution_count": 3,
   "metadata": {},
   "outputs": [],
   "source": [
    "dataset_obj =  DatasetFactory.create_dataset(DatasetType.CIFAR10)"
   ]
  },
  {
   "cell_type": "code",
   "execution_count": 4,
   "metadata": {},
   "outputs": [
    {
     "name": "stdout",
     "output_type": "stream",
     "text": [
      "Files already downloaded and verified\n"
     ]
    }
   ],
   "source": [
    "train_data = dataset_obj.load_dataset(train=True)\n",
    "train_loader = DataLoaderFactory.create_dataloader(dataset=train_data, batch_size=128, shuffle=True)"
   ]
  },
  {
   "cell_type": "code",
   "execution_count": 8,
   "metadata": {},
   "outputs": [],
   "source": [
    "# get FGSM attack\n",
    "fgsm_config = AttackConfigs.FgsmAttackConfig(epsilon=0.5, device=\"cuda\")\n",
    "fgsm = FGSM(fgsm_config)"
   ]
  },
  {
   "cell_type": "code",
   "execution_count": 6,
   "metadata": {},
   "outputs": [],
   "source": [
    "# get PGD attack\n",
    "pgd_config = AttackConfigs.PgdAttackConfig(epsilon=0.5, device=\"cuda\")\n",
    "pgd = PGD(pgd_config)"
   ]
  },
  {
   "cell_type": "code",
   "execution_count": 9,
   "metadata": {},
   "outputs": [
    {
     "name": "stdout",
     "output_type": "stream",
     "text": [
      "Running epoch 1...\n"
     ]
    },
    {
     "name": "stderr",
     "output_type": "stream",
     "text": [
      "100%|██████████| 391/391 [01:42<00:00,  3.81it/s]\n"
     ]
    },
    {
     "name": "stdout",
     "output_type": "stream",
     "text": [
      "Epoch 1/1 Loss: 1.7742201437425735\n"
     ]
    }
   ],
   "source": [
    "adversarial_training_config = AdversarialTrainingConfig(model=model, models=[model], attacks=[fgsm, pgd], train_loader=train_loader, epochs=1, device=\"cuda\")\n",
    "adversarial_training = AdversarialTraining(adversarial_training_config)\n",
    "adversarial_training.train()"
   ]
  },
  {
   "cell_type": "markdown",
   "metadata": {},
   "source": [
    "## CLI Usage"
   ]
  },
  {
   "cell_type": "code",
   "execution_count": 1,
   "metadata": {},
   "outputs": [
    {
     "name": "stdout",
     "output_type": "stream",
     "text": [
      "\u001b[32mConfiguring adversarial training...\u001b[0m\n",
      "Files already downloaded and verified\n",
      "Files already downloaded and verified\n",
      "\u001b[32mTraining on CIFAR10 with attacks ['FGSM', 'PGD']...\u001b[0m\n",
      "Running epoch 1...\n",
      "100%|█████████████████████████████████████████| 391/391 [01:37<00:00,  4.02it/s]\n",
      "Epoch 1/1 Loss: 1.7747141686851715\n",
      "\u001b[34mFinished training on CIFAR10 with attacks ['FGSM', 'PGD']!\u001b[0m\n"
     ]
    }
   ],
   "source": [
    "!advsecurenet defense adversarial-training -c ./adversarial_training_config.yml"
   ]
  }
 ],
 "metadata": {
  "kernelspec": {
   "display_name": "Python new",
   "language": "python",
   "name": "new"
  },
  "language_info": {
   "codemirror_mode": {
    "name": "ipython",
    "version": 3
   },
   "file_extension": ".py",
   "mimetype": "text/x-python",
   "name": "python",
   "nbconvert_exporter": "python",
   "pygments_lexer": "ipython3",
   "version": "3.11.5"
  }
 },
 "nbformat": 4,
 "nbformat_minor": 2
}
