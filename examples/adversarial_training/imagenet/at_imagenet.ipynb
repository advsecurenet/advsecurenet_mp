{
  "cells": [
    {
      "cell_type": "markdown",
      "metadata": {},
      "source": [
        "Imagenet dataset differs from CIFAR10 or MNIST in that it is complex and large. That's why we want to show how to use imagenet dataset to adversarially train a model. For this purpose, we use ResNet50 as the model and FGSM and LOTS as the attack methods. To successfully run this tutorial, you need to download the imagenet dataset and update the path in the code or config file. Both API and command line are provided in this tutorial."
      ]
    },
    {
      "cell_type": "markdown",
      "metadata": {},
      "source": [
        "## API"
      ]
    },
    {
      "cell_type": "code",
      "execution_count": 9,
      "metadata": {},
      "outputs": [],
      "source": [
        "from advsecurenet.utils.adversarial_target_generator import AdversarialTargetGenerator\n",
        "from advsecurenet.datasets.dataset_factory import DatasetFactory\n",
        "from advsecurenet.dataloader import DataLoaderFactory\n",
        "from advsecurenet.shared.types.dataset import DatasetType\n",
        "from advsecurenet.attacks.fgsm import FGSM\n",
        "from advsecurenet.attacks.lots import LOTS\n",
        "from advsecurenet.models.model_factory import ModelFactory\n",
        "import advsecurenet.shared.types.configs.attack_configs as AttackConfigs\n",
        "from advsecurenet.shared.types.configs.defense_configs.adversarial_training_config import AdversarialTrainingConfig\n",
        "from advsecurenet.utils.data import get_subset_data\n",
        "from advsecurenet.defenses import AdversarialTraining\n",
        "\n"
      ]
    },
    {
      "cell_type": "code",
      "execution_count": 2,
      "metadata": {},
      "outputs": [],
      "source": [
        "imagenet_obj = DatasetFactory.create_dataset(DatasetType.IMAGENET)\n",
        "imagenet_train_path = \"/local/scratch/datasets/ImageNet/ILSVRC2012/train\"\n",
        "imagenet_data = imagenet_obj.load_dataset(train=True, root= imagenet_train_path)\n"
      ]
    },
    {
      "cell_type": "code",
      "execution_count": 3,
      "metadata": {},
      "outputs": [],
      "source": [
        "# for the simplicity of the example, we will only use 100 images\n",
        "num_images = 100\n",
        "imagenet_data = get_subset_data(imagenet_data, num_images)"
      ]
    },
    {
      "cell_type": "code",
      "execution_count": 4,
      "metadata": {},
      "outputs": [],
      "source": [
        "assert  len(imagenet_data) == num_images"
      ]
    },
    {
      "cell_type": "code",
      "execution_count": 5,
      "metadata": {},
      "outputs": [],
      "source": [
        "train_loader = DataLoaderFactory.create_dataloader(dataset=imagenet_data, batch_size=32, shuffle=True)"
      ]
    },
    {
      "cell_type": "code",
      "execution_count": 6,
      "metadata": {},
      "outputs": [],
      "source": [
        "model = ModelFactory.create_model(\"resnet50\", pretrained=False, num_classes=1000)"
      ]
    },
    {
      "cell_type": "code",
      "execution_count": 7,
      "metadata": {},
      "outputs": [],
      "source": [
        "# get FGSM attack\n",
        "fgsm_config = AttackConfigs.FgsmAttackConfig(epsilon=0.5, device=\"cuda:1\")\n",
        "fgsm = FGSM(fgsm_config)"
      ]
    },
    {
      "cell_type": "code",
      "execution_count": 8,
      "metadata": {},
      "outputs": [
        {
          "name": "stdout",
          "output_type": "stream",
          "text": [
            "Running epoch 1...\n"
          ]
        },
        {
          "name": "stderr",
          "output_type": "stream",
          "text": [
            "100%|██████████| 4/4 [00:03<00:00,  1.06it/s]"
          ]
        },
        {
          "name": "stdout",
          "output_type": "stream",
          "text": [
            "Epoch 1/1 Loss: 8.957191944122314\n"
          ]
        },
        {
          "name": "stderr",
          "output_type": "stream",
          "text": [
            "\n"
          ]
        }
      ],
      "source": [
        "adversarial_training_config = AdversarialTrainingConfig(model=model, models=[model], attacks=[fgsm], train_loader=train_loader, epochs=1, device=\"cuda:1\")\n",
        "adversarial_training = AdversarialTraining(adversarial_training_config)\n",
        "adversarial_training.train()"
      ]
    },
    {
      "cell_type": "code",
      "execution_count": null,
      "metadata": {},
      "outputs": [],
      "source": []
    }
  ],
  "metadata": {
    "kernelspec": {
      "display_name": "Python new",
      "language": "python",
      "name": "new"
    },
    "language_info": {
      "codemirror_mode": {
        "name": "ipython",
        "version": 3
      },
      "file_extension": ".py",
      "mimetype": "text/x-python",
      "name": "python",
      "nbconvert_exporter": "python",
      "pygments_lexer": "ipython3",
      "version": "3.11.5"
    }
  },
  "nbformat": 4,
  "nbformat_minor": 2
}
