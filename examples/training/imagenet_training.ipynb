{
 "cells": [
  {
   "cell_type": "code",
   "execution_count": null,
   "metadata": {},
   "outputs": [],
   "source": [
    "from advsecurenet.models.model_factory import ModelFactory\n",
    "from advsecurenet.datasets import DatasetFactory\n",
    "from advsecurenet.dataloader import DataLoaderFactory\n",
    "from advsecurenet.shared.types import DatasetType\n",
    "from advsecurenet.utils.trainer import Trainer\n",
    "from advsecurenet.shared.types.configs.train_config import TrainConfig\n",
    "from advsecurenet.utils.model_utils import save_model\n",
    "from advsecurenet.utils.tester import Tester"
   ]
  },
  {
   "cell_type": "code",
   "execution_count": null,
   "metadata": {},
   "outputs": [],
   "source": [
    "# We want to use resnet18 model with no pretrained weights and 10 classes for cifar10 dataset\n",
    "model = ModelFactory.get_model('resnet18', pretrained=False, num_classes=1000)"
   ]
  },
  {
   "cell_type": "code",
   "execution_count": null,
   "metadata": {},
   "outputs": [],
   "source": [
    "# get cifar10 dataset\n",
    "dataset = DatasetFactory.load_dataset(DatasetType.IMAGENET)\n"
   ]
  },
  {
   "cell_type": "code",
   "execution_count": null,
   "metadata": {},
   "outputs": [],
   "source": [
    "train_data = dataset.load_dataset(root=\"/local/scratch/datasets/ImageNet/ILSVRC2012/train\", train=True)\n",
    "test_data = dataset.load_dataset(root=\"/local/scratch/datasets/ImageNet/ILSVRC2012/val\", train=False)"
   ]
  },
  {
   "cell_type": "code",
   "execution_count": null,
   "metadata": {},
   "outputs": [],
   "source": [
    "len(train_data)"
   ]
  },
  {
   "cell_type": "code",
   "execution_count": null,
   "metadata": {},
   "outputs": [],
   "source": [
    "len(test_data)"
   ]
  },
  {
   "cell_type": "code",
   "execution_count": null,
   "metadata": {},
   "outputs": [],
   "source": [
    "# get dataloader\n",
    "train_loader = DataLoaderFactory.get_dataloader(train_data, batch_size=64, shuffle=True)\n",
    "test_loader = DataLoaderFactory.get_dataloader(test_data, batch_size=64, shuffle=False)"
   ]
  },
  {
   "cell_type": "code",
   "execution_count": null,
   "metadata": {},
   "outputs": [],
   "source": [
    "train_config =  train_config = TrainConfig(\n",
    "        model=model,\n",
    "        train_loader=train_loader,\n",
    "        epochs=1, # 1 epoch for simplicity\n",
    "        device= \"cuda:2\"\n",
    "    )\n"
   ]
  },
  {
   "cell_type": "code",
   "execution_count": null,
   "metadata": {},
   "outputs": [],
   "source": [
    "trainer = Trainer(train_config)\n",
    "trainer.train()"
   ]
  }
 ],
 "metadata": {
  "kernelspec": {
   "display_name": "Python new",
   "language": "python",
   "name": "new"
  },
  "language_info": {
   "codemirror_mode": {
    "name": "ipython",
    "version": 3
   },
   "file_extension": ".py",
   "mimetype": "text/x-python",
   "name": "python",
   "nbconvert_exporter": "python",
   "pygments_lexer": "ipython3",
   "version": "3.11.5"
  }
 },
 "nbformat": 4,
 "nbformat_minor": 2
}
