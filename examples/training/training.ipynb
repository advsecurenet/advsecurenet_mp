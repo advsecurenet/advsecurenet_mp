{
 "cells": [
  {
   "cell_type": "markdown",
   "metadata": {},
   "source": [
    "This notebook shows how to use `AdvSecureNet` to train a model."
   ]
  },
  {
   "cell_type": "code",
   "execution_count": 1,
   "metadata": {},
   "outputs": [
    {
     "name": "stderr",
     "output_type": "stream",
     "text": [
      "/Users/melih/.pyenv/versions/3.10.10/lib/python3.10/site-packages/tqdm/auto.py:21: TqdmWarning: IProgress not found. Please update jupyter and ipywidgets. See https://ipywidgets.readthedocs.io/en/stable/user_install.html\n",
      "  from .autonotebook import tqdm as notebook_tqdm\n"
     ]
    }
   ],
   "source": [
    "from advsecurenet.models.model_factory import ModelFactory\n",
    "from advsecurenet.datasets import DatasetFactory\n",
    "from advsecurenet.dataloader import DataLoaderFactory\n",
    "from advsecurenet.shared.types import DatasetType\n",
    "from advsecurenet.utils.model_utils import train as train_model, test as test_model, save_model\n",
    "from advsecurenet.shared.types.configs.train_config import TrainConfig"
   ]
  },
  {
   "cell_type": "code",
   "execution_count": null,
   "metadata": {},
   "outputs": [],
   "source": [
    "# We want to use resnet18 model with no pretrained weights and 10 classes for cifar10 dataset\n",
    "model = ModelFactory.get_model('resnet18', pretrained=False, num_classes=10)"
   ]
  },
  {
   "cell_type": "code",
   "execution_count": null,
   "metadata": {},
   "outputs": [],
   "source": [
    "# get cifar10 dataset\n",
    "dataset = DatasetFactory.load_dataset(DatasetType.CIFAR10)\n",
    "train_data = dataset.load_dataset(train=True)\n",
    "test_data = dataset.load_dataset(train=False)"
   ]
  },
  {
   "cell_type": "code",
   "execution_count": null,
   "metadata": {},
   "outputs": [],
   "source": [
    "# get dataloader\n",
    "train_loader = DataLoaderFactory.get_dataloader(train_data, batch_size=64, shuffle=True)\n",
    "test_loader = DataLoaderFactory.get_dataloader(test_data, batch_size=64, shuffle=False)"
   ]
  },
  {
   "cell_type": "code",
   "execution_count": null,
   "metadata": {},
   "outputs": [],
   "source": [
    "train_config =  train_config = TrainConfig(\n",
    "        model=model,\n",
    "        train_loader=train_loader,\n",
    "        epochs=1, # 1 epoch for simplicity\n",
    "        device= \"mps\"\n",
    "    )\n",
    "train_model(train_config)"
   ]
  },
  {
   "cell_type": "code",
   "execution_count": null,
   "metadata": {},
   "outputs": [],
   "source": [
    "test_model(model, test_loader)"
   ]
  },
  {
   "cell_type": "code",
   "execution_count": null,
   "metadata": {},
   "outputs": [],
   "source": [
    "# You can also save the model\n",
    "save_model(model= model, filename='resnet18_cifar10.pth')"
   ]
  },
  {
   "cell_type": "code",
   "execution_count": null,
   "metadata": {},
   "outputs": [],
   "source": [
    "# it's also possible to save checkpoints during training\n",
    "model = ModelFactory.get_model('resnet18', pretrained=False, num_classes=10)\n",
    "train_config =  train_config = TrainConfig(\n",
    "        model=model,\n",
    "        train_loader=train_loader,\n",
    "        epochs=2, # 2 epoch for simplicity\n",
    "        device= \"mps\", # mps for apple mps, cuda for nvidia cuda\n",
    "        save_checkpoint=True,\n",
    "        checkpoint_interval=1\n",
    "    )\n",
    "train_model(train_config)"
   ]
  },
  {
   "cell_type": "code",
   "execution_count": null,
   "metadata": {},
   "outputs": [],
   "source": [
    "# It's also possible to continue training from a checkpoint\n",
    "model = ModelFactory.get_model('resnet18', pretrained=False, num_classes=10)\n",
    "train_config =  train_config = TrainConfig(\n",
    "        model=model,\n",
    "        train_loader=train_loader,\n",
    "        epochs=3, # 2 epoch for simplicity\n",
    "        device= \"mps\", # mps for apple mps, cuda for nvidia cuda\n",
    "        save_checkpoint=True,\n",
    "        checkpoint_interval=1,\n",
    "        load_checkpoint= True,\n",
    "        load_checkpoint_path=\"./checkpoints/resnet18_CIFAR10_checkpoint_2.pth\"\n",
    "    )\n",
    "train_model(train_config)"
   ]
  }
 ],
 "metadata": {
  "kernelspec": {
   "display_name": "Python 3",
   "language": "python",
   "name": "python3"
  },
  "language_info": {
   "codemirror_mode": {
    "name": "ipython",
    "version": 3
   },
   "file_extension": ".py",
   "mimetype": "text/x-python",
   "name": "python",
   "nbconvert_exporter": "python",
   "pygments_lexer": "ipython3",
   "version": "3.10.10"
  }
 },
 "nbformat": 4,
 "nbformat_minor": 2
}
