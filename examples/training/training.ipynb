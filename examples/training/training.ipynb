{
 "cells": [
  {
   "cell_type": "markdown",
   "metadata": {},
   "source": [
    "This notebook shows how to use `AdvSecureNet` to train a model."
   ]
  },
  {
   "cell_type": "code",
   "execution_count": 1,
   "metadata": {},
   "outputs": [
    {
     "name": "stderr",
     "output_type": "stream",
     "text": [
      "/Users/melih/.pyenv/versions/3.10.10/lib/python3.10/site-packages/tqdm/auto.py:21: TqdmWarning: IProgress not found. Please update jupyter and ipywidgets. See https://ipywidgets.readthedocs.io/en/stable/user_install.html\n",
      "  from .autonotebook import tqdm as notebook_tqdm\n"
     ]
    }
   ],
   "source": [
    "from advsecurenet.models.model_factory import ModelFactory\n",
    "from advsecurenet.datasets import DatasetFactory\n",
    "from advsecurenet.dataloader import DataLoaderFactory\n",
    "from advsecurenet.shared.types import DatasetType\n",
    "from advsecurenet.utils.model_utils import train as train_model, test as test_model, save_model\n",
    "from advsecurenet.shared.types.configs.train_config import TrainConfig\n",
    "from advsecurenet.shared.types.device import DeviceType"
   ]
  },
  {
   "cell_type": "code",
   "execution_count": 2,
   "metadata": {},
   "outputs": [],
   "source": [
    "# We want to use resnet18 model with no pretrained weights and 10 classes for cifar10 dataset\n",
    "model = ModelFactory.get_model('resnet18', pretrained=False, num_classes=10)"
   ]
  },
  {
   "cell_type": "code",
   "execution_count": 3,
   "metadata": {},
   "outputs": [
    {
     "name": "stdout",
     "output_type": "stream",
     "text": [
      "Files already downloaded and verified\n",
      "Files already downloaded and verified\n"
     ]
    }
   ],
   "source": [
    "# get cifar10 dataset\n",
    "dataset = DatasetFactory.load_dataset(DatasetType.CIFAR10)\n",
    "train_loader = dataset.load_dataset(train=True)\n",
    "test_loader = dataset.load_dataset(train=False)"
   ]
  },
  {
   "cell_type": "code",
   "execution_count": 4,
   "metadata": {},
   "outputs": [],
   "source": [
    "# get dataloader\n",
    "train_loader = DataLoaderFactory.get_dataloader(train_loader, batch_size=64, shuffle=True)\n",
    "test_loader = DataLoaderFactory.get_dataloader(test_loader, batch_size=64, shuffle=False)"
   ]
  },
  {
   "cell_type": "code",
   "execution_count": 5,
   "metadata": {},
   "outputs": [
    {
     "name": "stdout",
     "output_type": "stream",
     "text": [
      "Training on mps\n"
     ]
    },
    {
     "name": "stderr",
     "output_type": "stream",
     "text": [
      "Epoch 1/1: 100%|██████████| 782/782 [01:24<00:00,  9.30it/s]"
     ]
    },
    {
     "name": "stdout",
     "output_type": "stream",
     "text": [
      "Epoch 1 - Average Loss: 1.380936\n",
      "Training completed.\n"
     ]
    },
    {
     "name": "stderr",
     "output_type": "stream",
     "text": [
      "\n"
     ]
    }
   ],
   "source": [
    "train_config =  train_config = TrainConfig(\n",
    "        model=model,\n",
    "        train_loader=train_loader,\n",
    "        epochs=1, # 1 epoch for simplicity\n",
    "        device= DeviceType.MPS # mps for apple mps, cuda for nvidia cuda\n",
    "    )\n",
    "train_model(train_config)"
   ]
  },
  {
   "cell_type": "code",
   "execution_count": 6,
   "metadata": {},
   "outputs": [
    {
     "name": "stdout",
     "output_type": "stream",
     "text": [
      "Testing on mps\n"
     ]
    },
    {
     "name": "stderr",
     "output_type": "stream",
     "text": [
      "Testing: 100%|██████████| 157/157 [00:27<00:00,  5.64batch/s]"
     ]
    },
    {
     "name": "stdout",
     "output_type": "stream",
     "text": [
      "\n",
      "Test set: Average loss: 0.0180, Accuracy: 6064/10000 (60.64%)\n"
     ]
    },
    {
     "name": "stderr",
     "output_type": "stream",
     "text": [
      "\n"
     ]
    },
    {
     "data": {
      "text/plain": [
       "(0.018029744523763658, 60.64)"
      ]
     },
     "execution_count": 6,
     "metadata": {},
     "output_type": "execute_result"
    }
   ],
   "source": [
    "test_model(model, test_loader)"
   ]
  },
  {
   "cell_type": "code",
   "execution_count": 7,
   "metadata": {},
   "outputs": [],
   "source": [
    "# You can also save the model\n",
    "save_model(model= model, filename='resnet18_cifar10.pth')"
   ]
  },
  {
   "cell_type": "code",
   "execution_count": null,
   "metadata": {},
   "outputs": [],
   "source": [
    "# it's also possible to save checkpoints during training\n",
    "model = ModelFactory.get_model('resnet18', pretrained=False, num_classes=10)\n",
    "train_config =  train_config = TrainConfig(\n",
    "        model=model,\n",
    "        train_loader=train_loader,\n",
    "        epochs=2, # 2 epoch for simplicity\n",
    "        device= DeviceType.MPS, # mps for apple mps, cuda for nvidia cuda\n",
    "        save_checkpoint=True,\n",
    "        checkpoint_interval=1\n",
    "    )\n",
    "train_model(train_config)"
   ]
  },
  {
   "cell_type": "code",
   "execution_count": null,
   "metadata": {},
   "outputs": [],
   "source": [
    "# It's also possible to continue training from a checkpoint\n",
    "model = ModelFactory.get_model('resnet18', pretrained=False, num_classes=10)\n",
    "train_config =  train_config = TrainConfig(\n",
    "        model=model,\n",
    "        train_loader=train_loader,\n",
    "        epochs=3, # 2 epoch for simplicity\n",
    "        device= DeviceType.MPS, # mps for apple mps, cuda for nvidia cuda\n",
    "        save_checkpoint=True,\n",
    "        checkpoint_interval=1,\n",
    "        load_checkpoint= True,\n",
    "        load_checkpoint_path=\"./checkpoints/resnet18_CIFAR10_checkpoint_2.pth\"\n",
    "    )\n",
    "train_model(train_config)"
   ]
  }
 ],
 "metadata": {
  "language_info": {
   "name": "python"
  }
 },
 "nbformat": 4,
 "nbformat_minor": 2
}
